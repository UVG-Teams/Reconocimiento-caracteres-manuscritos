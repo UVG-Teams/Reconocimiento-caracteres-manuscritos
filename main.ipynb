{
    "cells": [
        {
            "cell_type": "code",
            "execution_count": 30,
            "source": [
                "import pandas as pd\n",
                "import numpy as np\n",
                "import random\n",
                "import matplotlib.pyplot as plt\n",
                "import seaborn as sns\n",
                "import tensorflow as tf\n",
                "\n",
                "from keras.utils.np_utils import to_categorical\n",
                "from keras.layers import Dense, Activation, Dropout\n",
                "from keras.preprocessing.image import ImageDataGenerator\n",
                "from sklearn.model_selection import train_test_split\n",
                "from keras.models import Sequential"
            ],
            "outputs": [],
            "metadata": {}
        },
        {
            "cell_type": "code",
            "execution_count": 31,
            "source": [
                "data = pd.read_csv('train.csv')"
            ],
            "outputs": [],
            "metadata": {}
        },
        {
            "cell_type": "code",
            "execution_count": 32,
            "source": [
                "data.head()"
            ],
            "outputs": [
                {
                    "output_type": "execute_result",
                    "data": {
                        "text/plain": [
                            "   label  pixel0  pixel1  pixel2  pixel3  pixel4  pixel5  pixel6  pixel7  \\\n",
                            "0      1       0       0       0       0       0       0       0       0   \n",
                            "1      0       0       0       0       0       0       0       0       0   \n",
                            "2      1       0       0       0       0       0       0       0       0   \n",
                            "3      4       0       0       0       0       0       0       0       0   \n",
                            "4      0       0       0       0       0       0       0       0       0   \n",
                            "\n",
                            "   pixel8  ...  pixel774  pixel775  pixel776  pixel777  pixel778  pixel779  \\\n",
                            "0       0  ...         0         0         0         0         0         0   \n",
                            "1       0  ...         0         0         0         0         0         0   \n",
                            "2       0  ...         0         0         0         0         0         0   \n",
                            "3       0  ...         0         0         0         0         0         0   \n",
                            "4       0  ...         0         0         0         0         0         0   \n",
                            "\n",
                            "   pixel780  pixel781  pixel782  pixel783  \n",
                            "0         0         0         0         0  \n",
                            "1         0         0         0         0  \n",
                            "2         0         0         0         0  \n",
                            "3         0         0         0         0  \n",
                            "4         0         0         0         0  \n",
                            "\n",
                            "[5 rows x 785 columns]"
                        ],
                        "text/html": [
                            "<div>\n",
                            "<style scoped>\n",
                            "    .dataframe tbody tr th:only-of-type {\n",
                            "        vertical-align: middle;\n",
                            "    }\n",
                            "\n",
                            "    .dataframe tbody tr th {\n",
                            "        vertical-align: top;\n",
                            "    }\n",
                            "\n",
                            "    .dataframe thead th {\n",
                            "        text-align: right;\n",
                            "    }\n",
                            "</style>\n",
                            "<table border=\"1\" class=\"dataframe\">\n",
                            "  <thead>\n",
                            "    <tr style=\"text-align: right;\">\n",
                            "      <th></th>\n",
                            "      <th>label</th>\n",
                            "      <th>pixel0</th>\n",
                            "      <th>pixel1</th>\n",
                            "      <th>pixel2</th>\n",
                            "      <th>pixel3</th>\n",
                            "      <th>pixel4</th>\n",
                            "      <th>pixel5</th>\n",
                            "      <th>pixel6</th>\n",
                            "      <th>pixel7</th>\n",
                            "      <th>pixel8</th>\n",
                            "      <th>...</th>\n",
                            "      <th>pixel774</th>\n",
                            "      <th>pixel775</th>\n",
                            "      <th>pixel776</th>\n",
                            "      <th>pixel777</th>\n",
                            "      <th>pixel778</th>\n",
                            "      <th>pixel779</th>\n",
                            "      <th>pixel780</th>\n",
                            "      <th>pixel781</th>\n",
                            "      <th>pixel782</th>\n",
                            "      <th>pixel783</th>\n",
                            "    </tr>\n",
                            "  </thead>\n",
                            "  <tbody>\n",
                            "    <tr>\n",
                            "      <th>0</th>\n",
                            "      <td>1</td>\n",
                            "      <td>0</td>\n",
                            "      <td>0</td>\n",
                            "      <td>0</td>\n",
                            "      <td>0</td>\n",
                            "      <td>0</td>\n",
                            "      <td>0</td>\n",
                            "      <td>0</td>\n",
                            "      <td>0</td>\n",
                            "      <td>0</td>\n",
                            "      <td>...</td>\n",
                            "      <td>0</td>\n",
                            "      <td>0</td>\n",
                            "      <td>0</td>\n",
                            "      <td>0</td>\n",
                            "      <td>0</td>\n",
                            "      <td>0</td>\n",
                            "      <td>0</td>\n",
                            "      <td>0</td>\n",
                            "      <td>0</td>\n",
                            "      <td>0</td>\n",
                            "    </tr>\n",
                            "    <tr>\n",
                            "      <th>1</th>\n",
                            "      <td>0</td>\n",
                            "      <td>0</td>\n",
                            "      <td>0</td>\n",
                            "      <td>0</td>\n",
                            "      <td>0</td>\n",
                            "      <td>0</td>\n",
                            "      <td>0</td>\n",
                            "      <td>0</td>\n",
                            "      <td>0</td>\n",
                            "      <td>0</td>\n",
                            "      <td>...</td>\n",
                            "      <td>0</td>\n",
                            "      <td>0</td>\n",
                            "      <td>0</td>\n",
                            "      <td>0</td>\n",
                            "      <td>0</td>\n",
                            "      <td>0</td>\n",
                            "      <td>0</td>\n",
                            "      <td>0</td>\n",
                            "      <td>0</td>\n",
                            "      <td>0</td>\n",
                            "    </tr>\n",
                            "    <tr>\n",
                            "      <th>2</th>\n",
                            "      <td>1</td>\n",
                            "      <td>0</td>\n",
                            "      <td>0</td>\n",
                            "      <td>0</td>\n",
                            "      <td>0</td>\n",
                            "      <td>0</td>\n",
                            "      <td>0</td>\n",
                            "      <td>0</td>\n",
                            "      <td>0</td>\n",
                            "      <td>0</td>\n",
                            "      <td>...</td>\n",
                            "      <td>0</td>\n",
                            "      <td>0</td>\n",
                            "      <td>0</td>\n",
                            "      <td>0</td>\n",
                            "      <td>0</td>\n",
                            "      <td>0</td>\n",
                            "      <td>0</td>\n",
                            "      <td>0</td>\n",
                            "      <td>0</td>\n",
                            "      <td>0</td>\n",
                            "    </tr>\n",
                            "    <tr>\n",
                            "      <th>3</th>\n",
                            "      <td>4</td>\n",
                            "      <td>0</td>\n",
                            "      <td>0</td>\n",
                            "      <td>0</td>\n",
                            "      <td>0</td>\n",
                            "      <td>0</td>\n",
                            "      <td>0</td>\n",
                            "      <td>0</td>\n",
                            "      <td>0</td>\n",
                            "      <td>0</td>\n",
                            "      <td>...</td>\n",
                            "      <td>0</td>\n",
                            "      <td>0</td>\n",
                            "      <td>0</td>\n",
                            "      <td>0</td>\n",
                            "      <td>0</td>\n",
                            "      <td>0</td>\n",
                            "      <td>0</td>\n",
                            "      <td>0</td>\n",
                            "      <td>0</td>\n",
                            "      <td>0</td>\n",
                            "    </tr>\n",
                            "    <tr>\n",
                            "      <th>4</th>\n",
                            "      <td>0</td>\n",
                            "      <td>0</td>\n",
                            "      <td>0</td>\n",
                            "      <td>0</td>\n",
                            "      <td>0</td>\n",
                            "      <td>0</td>\n",
                            "      <td>0</td>\n",
                            "      <td>0</td>\n",
                            "      <td>0</td>\n",
                            "      <td>0</td>\n",
                            "      <td>...</td>\n",
                            "      <td>0</td>\n",
                            "      <td>0</td>\n",
                            "      <td>0</td>\n",
                            "      <td>0</td>\n",
                            "      <td>0</td>\n",
                            "      <td>0</td>\n",
                            "      <td>0</td>\n",
                            "      <td>0</td>\n",
                            "      <td>0</td>\n",
                            "      <td>0</td>\n",
                            "    </tr>\n",
                            "  </tbody>\n",
                            "</table>\n",
                            "<p>5 rows × 785 columns</p>\n",
                            "</div>"
                        ]
                    },
                    "metadata": {},
                    "execution_count": 32
                }
            ],
            "metadata": {}
        },
        {
            "cell_type": "code",
            "execution_count": 33,
            "source": [
                "data.count()"
            ],
            "outputs": [
                {
                    "output_type": "execute_result",
                    "data": {
                        "text/plain": [
                            "label       42000\n",
                            "pixel0      42000\n",
                            "pixel1      42000\n",
                            "pixel2      42000\n",
                            "pixel3      42000\n",
                            "            ...  \n",
                            "pixel779    42000\n",
                            "pixel780    42000\n",
                            "pixel781    42000\n",
                            "pixel782    42000\n",
                            "pixel783    42000\n",
                            "Length: 785, dtype: int64"
                        ]
                    },
                    "metadata": {},
                    "execution_count": 33
                }
            ],
            "metadata": {}
        },
        {
            "cell_type": "code",
            "execution_count": 34,
            "source": [
                "data.describe()"
            ],
            "outputs": [
                {
                    "output_type": "execute_result",
                    "data": {
                        "text/plain": [
                            "              label   pixel0   pixel1   pixel2   pixel3   pixel4   pixel5  \\\n",
                            "count  42000.000000  42000.0  42000.0  42000.0  42000.0  42000.0  42000.0   \n",
                            "mean       4.456643      0.0      0.0      0.0      0.0      0.0      0.0   \n",
                            "std        2.887730      0.0      0.0      0.0      0.0      0.0      0.0   \n",
                            "min        0.000000      0.0      0.0      0.0      0.0      0.0      0.0   \n",
                            "25%        2.000000      0.0      0.0      0.0      0.0      0.0      0.0   \n",
                            "50%        4.000000      0.0      0.0      0.0      0.0      0.0      0.0   \n",
                            "75%        7.000000      0.0      0.0      0.0      0.0      0.0      0.0   \n",
                            "max        9.000000      0.0      0.0      0.0      0.0      0.0      0.0   \n",
                            "\n",
                            "        pixel6   pixel7   pixel8  ...      pixel774      pixel775  \\\n",
                            "count  42000.0  42000.0  42000.0  ...  42000.000000  42000.000000   \n",
                            "mean       0.0      0.0      0.0  ...      0.219286      0.117095   \n",
                            "std        0.0      0.0      0.0  ...      6.312890      4.633819   \n",
                            "min        0.0      0.0      0.0  ...      0.000000      0.000000   \n",
                            "25%        0.0      0.0      0.0  ...      0.000000      0.000000   \n",
                            "50%        0.0      0.0      0.0  ...      0.000000      0.000000   \n",
                            "75%        0.0      0.0      0.0  ...      0.000000      0.000000   \n",
                            "max        0.0      0.0      0.0  ...    254.000000    254.000000   \n",
                            "\n",
                            "           pixel776     pixel777      pixel778      pixel779  pixel780  \\\n",
                            "count  42000.000000  42000.00000  42000.000000  42000.000000   42000.0   \n",
                            "mean       0.059024      0.02019      0.017238      0.002857       0.0   \n",
                            "std        3.274488      1.75987      1.894498      0.414264       0.0   \n",
                            "min        0.000000      0.00000      0.000000      0.000000       0.0   \n",
                            "25%        0.000000      0.00000      0.000000      0.000000       0.0   \n",
                            "50%        0.000000      0.00000      0.000000      0.000000       0.0   \n",
                            "75%        0.000000      0.00000      0.000000      0.000000       0.0   \n",
                            "max      253.000000    253.00000    254.000000     62.000000       0.0   \n",
                            "\n",
                            "       pixel781  pixel782  pixel783  \n",
                            "count   42000.0   42000.0   42000.0  \n",
                            "mean        0.0       0.0       0.0  \n",
                            "std         0.0       0.0       0.0  \n",
                            "min         0.0       0.0       0.0  \n",
                            "25%         0.0       0.0       0.0  \n",
                            "50%         0.0       0.0       0.0  \n",
                            "75%         0.0       0.0       0.0  \n",
                            "max         0.0       0.0       0.0  \n",
                            "\n",
                            "[8 rows x 785 columns]"
                        ],
                        "text/html": [
                            "<div>\n",
                            "<style scoped>\n",
                            "    .dataframe tbody tr th:only-of-type {\n",
                            "        vertical-align: middle;\n",
                            "    }\n",
                            "\n",
                            "    .dataframe tbody tr th {\n",
                            "        vertical-align: top;\n",
                            "    }\n",
                            "\n",
                            "    .dataframe thead th {\n",
                            "        text-align: right;\n",
                            "    }\n",
                            "</style>\n",
                            "<table border=\"1\" class=\"dataframe\">\n",
                            "  <thead>\n",
                            "    <tr style=\"text-align: right;\">\n",
                            "      <th></th>\n",
                            "      <th>label</th>\n",
                            "      <th>pixel0</th>\n",
                            "      <th>pixel1</th>\n",
                            "      <th>pixel2</th>\n",
                            "      <th>pixel3</th>\n",
                            "      <th>pixel4</th>\n",
                            "      <th>pixel5</th>\n",
                            "      <th>pixel6</th>\n",
                            "      <th>pixel7</th>\n",
                            "      <th>pixel8</th>\n",
                            "      <th>...</th>\n",
                            "      <th>pixel774</th>\n",
                            "      <th>pixel775</th>\n",
                            "      <th>pixel776</th>\n",
                            "      <th>pixel777</th>\n",
                            "      <th>pixel778</th>\n",
                            "      <th>pixel779</th>\n",
                            "      <th>pixel780</th>\n",
                            "      <th>pixel781</th>\n",
                            "      <th>pixel782</th>\n",
                            "      <th>pixel783</th>\n",
                            "    </tr>\n",
                            "  </thead>\n",
                            "  <tbody>\n",
                            "    <tr>\n",
                            "      <th>count</th>\n",
                            "      <td>42000.000000</td>\n",
                            "      <td>42000.0</td>\n",
                            "      <td>42000.0</td>\n",
                            "      <td>42000.0</td>\n",
                            "      <td>42000.0</td>\n",
                            "      <td>42000.0</td>\n",
                            "      <td>42000.0</td>\n",
                            "      <td>42000.0</td>\n",
                            "      <td>42000.0</td>\n",
                            "      <td>42000.0</td>\n",
                            "      <td>...</td>\n",
                            "      <td>42000.000000</td>\n",
                            "      <td>42000.000000</td>\n",
                            "      <td>42000.000000</td>\n",
                            "      <td>42000.00000</td>\n",
                            "      <td>42000.000000</td>\n",
                            "      <td>42000.000000</td>\n",
                            "      <td>42000.0</td>\n",
                            "      <td>42000.0</td>\n",
                            "      <td>42000.0</td>\n",
                            "      <td>42000.0</td>\n",
                            "    </tr>\n",
                            "    <tr>\n",
                            "      <th>mean</th>\n",
                            "      <td>4.456643</td>\n",
                            "      <td>0.0</td>\n",
                            "      <td>0.0</td>\n",
                            "      <td>0.0</td>\n",
                            "      <td>0.0</td>\n",
                            "      <td>0.0</td>\n",
                            "      <td>0.0</td>\n",
                            "      <td>0.0</td>\n",
                            "      <td>0.0</td>\n",
                            "      <td>0.0</td>\n",
                            "      <td>...</td>\n",
                            "      <td>0.219286</td>\n",
                            "      <td>0.117095</td>\n",
                            "      <td>0.059024</td>\n",
                            "      <td>0.02019</td>\n",
                            "      <td>0.017238</td>\n",
                            "      <td>0.002857</td>\n",
                            "      <td>0.0</td>\n",
                            "      <td>0.0</td>\n",
                            "      <td>0.0</td>\n",
                            "      <td>0.0</td>\n",
                            "    </tr>\n",
                            "    <tr>\n",
                            "      <th>std</th>\n",
                            "      <td>2.887730</td>\n",
                            "      <td>0.0</td>\n",
                            "      <td>0.0</td>\n",
                            "      <td>0.0</td>\n",
                            "      <td>0.0</td>\n",
                            "      <td>0.0</td>\n",
                            "      <td>0.0</td>\n",
                            "      <td>0.0</td>\n",
                            "      <td>0.0</td>\n",
                            "      <td>0.0</td>\n",
                            "      <td>...</td>\n",
                            "      <td>6.312890</td>\n",
                            "      <td>4.633819</td>\n",
                            "      <td>3.274488</td>\n",
                            "      <td>1.75987</td>\n",
                            "      <td>1.894498</td>\n",
                            "      <td>0.414264</td>\n",
                            "      <td>0.0</td>\n",
                            "      <td>0.0</td>\n",
                            "      <td>0.0</td>\n",
                            "      <td>0.0</td>\n",
                            "    </tr>\n",
                            "    <tr>\n",
                            "      <th>min</th>\n",
                            "      <td>0.000000</td>\n",
                            "      <td>0.0</td>\n",
                            "      <td>0.0</td>\n",
                            "      <td>0.0</td>\n",
                            "      <td>0.0</td>\n",
                            "      <td>0.0</td>\n",
                            "      <td>0.0</td>\n",
                            "      <td>0.0</td>\n",
                            "      <td>0.0</td>\n",
                            "      <td>0.0</td>\n",
                            "      <td>...</td>\n",
                            "      <td>0.000000</td>\n",
                            "      <td>0.000000</td>\n",
                            "      <td>0.000000</td>\n",
                            "      <td>0.00000</td>\n",
                            "      <td>0.000000</td>\n",
                            "      <td>0.000000</td>\n",
                            "      <td>0.0</td>\n",
                            "      <td>0.0</td>\n",
                            "      <td>0.0</td>\n",
                            "      <td>0.0</td>\n",
                            "    </tr>\n",
                            "    <tr>\n",
                            "      <th>25%</th>\n",
                            "      <td>2.000000</td>\n",
                            "      <td>0.0</td>\n",
                            "      <td>0.0</td>\n",
                            "      <td>0.0</td>\n",
                            "      <td>0.0</td>\n",
                            "      <td>0.0</td>\n",
                            "      <td>0.0</td>\n",
                            "      <td>0.0</td>\n",
                            "      <td>0.0</td>\n",
                            "      <td>0.0</td>\n",
                            "      <td>...</td>\n",
                            "      <td>0.000000</td>\n",
                            "      <td>0.000000</td>\n",
                            "      <td>0.000000</td>\n",
                            "      <td>0.00000</td>\n",
                            "      <td>0.000000</td>\n",
                            "      <td>0.000000</td>\n",
                            "      <td>0.0</td>\n",
                            "      <td>0.0</td>\n",
                            "      <td>0.0</td>\n",
                            "      <td>0.0</td>\n",
                            "    </tr>\n",
                            "    <tr>\n",
                            "      <th>50%</th>\n",
                            "      <td>4.000000</td>\n",
                            "      <td>0.0</td>\n",
                            "      <td>0.0</td>\n",
                            "      <td>0.0</td>\n",
                            "      <td>0.0</td>\n",
                            "      <td>0.0</td>\n",
                            "      <td>0.0</td>\n",
                            "      <td>0.0</td>\n",
                            "      <td>0.0</td>\n",
                            "      <td>0.0</td>\n",
                            "      <td>...</td>\n",
                            "      <td>0.000000</td>\n",
                            "      <td>0.000000</td>\n",
                            "      <td>0.000000</td>\n",
                            "      <td>0.00000</td>\n",
                            "      <td>0.000000</td>\n",
                            "      <td>0.000000</td>\n",
                            "      <td>0.0</td>\n",
                            "      <td>0.0</td>\n",
                            "      <td>0.0</td>\n",
                            "      <td>0.0</td>\n",
                            "    </tr>\n",
                            "    <tr>\n",
                            "      <th>75%</th>\n",
                            "      <td>7.000000</td>\n",
                            "      <td>0.0</td>\n",
                            "      <td>0.0</td>\n",
                            "      <td>0.0</td>\n",
                            "      <td>0.0</td>\n",
                            "      <td>0.0</td>\n",
                            "      <td>0.0</td>\n",
                            "      <td>0.0</td>\n",
                            "      <td>0.0</td>\n",
                            "      <td>0.0</td>\n",
                            "      <td>...</td>\n",
                            "      <td>0.000000</td>\n",
                            "      <td>0.000000</td>\n",
                            "      <td>0.000000</td>\n",
                            "      <td>0.00000</td>\n",
                            "      <td>0.000000</td>\n",
                            "      <td>0.000000</td>\n",
                            "      <td>0.0</td>\n",
                            "      <td>0.0</td>\n",
                            "      <td>0.0</td>\n",
                            "      <td>0.0</td>\n",
                            "    </tr>\n",
                            "    <tr>\n",
                            "      <th>max</th>\n",
                            "      <td>9.000000</td>\n",
                            "      <td>0.0</td>\n",
                            "      <td>0.0</td>\n",
                            "      <td>0.0</td>\n",
                            "      <td>0.0</td>\n",
                            "      <td>0.0</td>\n",
                            "      <td>0.0</td>\n",
                            "      <td>0.0</td>\n",
                            "      <td>0.0</td>\n",
                            "      <td>0.0</td>\n",
                            "      <td>...</td>\n",
                            "      <td>254.000000</td>\n",
                            "      <td>254.000000</td>\n",
                            "      <td>253.000000</td>\n",
                            "      <td>253.00000</td>\n",
                            "      <td>254.000000</td>\n",
                            "      <td>62.000000</td>\n",
                            "      <td>0.0</td>\n",
                            "      <td>0.0</td>\n",
                            "      <td>0.0</td>\n",
                            "      <td>0.0</td>\n",
                            "    </tr>\n",
                            "  </tbody>\n",
                            "</table>\n",
                            "<p>8 rows × 785 columns</p>\n",
                            "</div>"
                        ]
                    },
                    "metadata": {},
                    "execution_count": 34
                }
            ],
            "metadata": {}
        },
        {
            "cell_type": "code",
            "execution_count": 35,
            "source": [
                "data.dtypes"
            ],
            "outputs": [
                {
                    "output_type": "execute_result",
                    "data": {
                        "text/plain": [
                            "label       int64\n",
                            "pixel0      int64\n",
                            "pixel1      int64\n",
                            "pixel2      int64\n",
                            "pixel3      int64\n",
                            "            ...  \n",
                            "pixel779    int64\n",
                            "pixel780    int64\n",
                            "pixel781    int64\n",
                            "pixel782    int64\n",
                            "pixel783    int64\n",
                            "Length: 785, dtype: object"
                        ]
                    },
                    "metadata": {},
                    "execution_count": 35
                }
            ],
            "metadata": {}
        },
        {
            "cell_type": "code",
            "execution_count": 36,
            "source": [
                "data.shape"
            ],
            "outputs": [
                {
                    "output_type": "execute_result",
                    "data": {
                        "text/plain": [
                            "(42000, 785)"
                        ]
                    },
                    "metadata": {},
                    "execution_count": 36
                }
            ],
            "metadata": {}
        },
        {
            "cell_type": "code",
            "execution_count": 37,
            "source": [
                "sns.countplot(x=data.label)"
            ],
            "outputs": [
                {
                    "output_type": "execute_result",
                    "data": {
                        "text/plain": [
                            "<AxesSubplot:xlabel='label', ylabel='count'>"
                        ]
                    },
                    "metadata": {},
                    "execution_count": 37
                },
                {
                    "output_type": "display_data",
                    "data": {
                        "text/plain": [
                            "<Figure size 432x288 with 1 Axes>"
                        ],
                        "image/svg+xml": "<?xml version=\"1.0\" encoding=\"utf-8\" standalone=\"no\"?>\n<!DOCTYPE svg PUBLIC \"-//W3C//DTD SVG 1.1//EN\"\n  \"http://www.w3.org/Graphics/SVG/1.1/DTD/svg11.dtd\">\n<!-- Created with matplotlib (https://matplotlib.org/) -->\n<svg height=\"262.19625pt\" version=\"1.1\" viewBox=\"0 0 395.328125 262.19625\" width=\"395.328125pt\" xmlns=\"http://www.w3.org/2000/svg\" xmlns:xlink=\"http://www.w3.org/1999/xlink\">\n <metadata>\n  <rdf:RDF xmlns:cc=\"http://creativecommons.org/ns#\" xmlns:dc=\"http://purl.org/dc/elements/1.1/\" xmlns:rdf=\"http://www.w3.org/1999/02/22-rdf-syntax-ns#\">\n   <cc:Work>\n    <dc:type rdf:resource=\"http://purl.org/dc/dcmitype/StillImage\"/>\n    <dc:date>2021-08-19T20:19:52.405753</dc:date>\n    <dc:format>image/svg+xml</dc:format>\n    <dc:creator>\n     <cc:Agent>\n      <dc:title>Matplotlib v3.3.4, https://matplotlib.org/</dc:title>\n     </cc:Agent>\n    </dc:creator>\n   </cc:Work>\n  </rdf:RDF>\n </metadata>\n <defs>\n  <style type=\"text/css\">*{stroke-linecap:butt;stroke-linejoin:round;}</style>\n </defs>\n <g id=\"figure_1\">\n  <g id=\"patch_1\">\n   <path d=\"M 0 262.19625 \nL 395.328125 262.19625 \nL 395.328125 0 \nL 0 0 \nz\n\" style=\"fill:none;\"/>\n  </g>\n  <g id=\"axes_1\">\n   <g id=\"patch_2\">\n    <path d=\"M 53.328125 224.64 \nL 388.128125 224.64 \nL 388.128125 7.2 \nL 53.328125 7.2 \nz\n\" style=\"fill:#ffffff;\"/>\n   </g>\n   <g id=\"patch_3\">\n    <path clip-path=\"url(#pdf93f8ccc6)\" d=\"M 56.676125 224.64 \nL 83.460125 224.64 \nL 83.460125 41.958922 \nL 56.676125 41.958922 \nz\n\" style=\"fill:#3274a1;\"/>\n   </g>\n   <g id=\"patch_4\">\n    <path clip-path=\"url(#pdf93f8ccc6)\" d=\"M 90.156125 224.64 \nL 116.940125 224.64 \nL 116.940125 17.554286 \nL 90.156125 17.554286 \nz\n\" style=\"fill:#e1812c;\"/>\n   </g>\n   <g id=\"patch_5\">\n    <path clip-path=\"url(#pdf93f8ccc6)\" d=\"M 123.636125 224.64 \nL 150.420125 224.64 \nL 150.420125 39.969413 \nL 123.636125 39.969413 \nz\n\" style=\"fill:#3a923a;\"/>\n   </g>\n   <g id=\"patch_6\">\n    <path clip-path=\"url(#pdf93f8ccc6)\" d=\"M 157.116125 224.64 \nL 183.900125 224.64 \nL 183.900125 32.276648 \nL 157.116125 32.276648 \nz\n\" style=\"fill:#c03d3e;\"/>\n   </g>\n   <g id=\"patch_7\">\n    <path clip-path=\"url(#pdf93f8ccc6)\" d=\"M 190.596125 224.64 \nL 217.380125 224.64 \nL 217.380125 44.611599 \nL 190.596125 44.611599 \nz\n\" style=\"fill:#9372b2;\"/>\n   </g>\n   <g id=\"patch_8\">\n    <path clip-path=\"url(#pdf93f8ccc6)\" d=\"M 224.076125 224.64 \nL 250.860125 224.64 \nL 250.860125 56.858129 \nL 224.076125 56.858129 \nz\n\" style=\"fill:#845b53;\"/>\n   </g>\n   <g id=\"patch_9\">\n    <path clip-path=\"url(#pdf93f8ccc6)\" d=\"M 257.556125 224.64 \nL 284.340125 224.64 \nL 284.340125 41.737865 \nL 257.556125 41.737865 \nz\n\" style=\"fill:#d684bd;\"/>\n   </g>\n   <g id=\"patch_10\">\n    <path clip-path=\"url(#pdf93f8ccc6)\" d=\"M 291.036125 224.64 \nL 317.820125 224.64 \nL 317.820125 30.066083 \nL 291.036125 30.066083 \nz\n\" style=\"fill:#7f7f7f;\"/>\n   </g>\n   <g id=\"patch_11\">\n    <path clip-path=\"url(#pdf93f8ccc6)\" d=\"M 324.516125 224.64 \nL 351.300125 224.64 \nL 351.300125 45.009501 \nL 324.516125 45.009501 \nz\n\" style=\"fill:#a9aa35;\"/>\n   </g>\n   <g id=\"patch_12\">\n    <path clip-path=\"url(#pdf93f8ccc6)\" d=\"M 357.996125 224.64 \nL 384.780125 224.64 \nL 384.780125 39.483089 \nL 357.996125 39.483089 \nz\n\" style=\"fill:#2eabb8;\"/>\n   </g>\n   <g id=\"matplotlib.axis_1\">\n    <g id=\"xtick_1\">\n     <g id=\"line2d_1\">\n      <defs>\n       <path d=\"M 0 0 \nL 0 3.5 \n\" id=\"m2df0756fcf\" style=\"stroke:#000000;stroke-width:0.8;\"/>\n      </defs>\n      <g>\n       <use style=\"stroke:#000000;stroke-width:0.8;\" x=\"70.068125\" xlink:href=\"#m2df0756fcf\" y=\"224.64\"/>\n      </g>\n     </g>\n     <g id=\"text_1\">\n      <!-- 0 -->\n      <g transform=\"translate(66.886875 239.238437)scale(0.1 -0.1)\">\n       <defs>\n        <path d=\"M 31.78125 66.40625 \nQ 24.171875 66.40625 20.328125 58.90625 \nQ 16.5 51.421875 16.5 36.375 \nQ 16.5 21.390625 20.328125 13.890625 \nQ 24.171875 6.390625 31.78125 6.390625 \nQ 39.453125 6.390625 43.28125 13.890625 \nQ 47.125 21.390625 47.125 36.375 \nQ 47.125 51.421875 43.28125 58.90625 \nQ 39.453125 66.40625 31.78125 66.40625 \nz\nM 31.78125 74.21875 \nQ 44.046875 74.21875 50.515625 64.515625 \nQ 56.984375 54.828125 56.984375 36.375 \nQ 56.984375 17.96875 50.515625 8.265625 \nQ 44.046875 -1.421875 31.78125 -1.421875 \nQ 19.53125 -1.421875 13.0625 8.265625 \nQ 6.59375 17.96875 6.59375 36.375 \nQ 6.59375 54.828125 13.0625 64.515625 \nQ 19.53125 74.21875 31.78125 74.21875 \nz\n\" id=\"DejaVuSans-48\"/>\n       </defs>\n       <use xlink:href=\"#DejaVuSans-48\"/>\n      </g>\n     </g>\n    </g>\n    <g id=\"xtick_2\">\n     <g id=\"line2d_2\">\n      <g>\n       <use style=\"stroke:#000000;stroke-width:0.8;\" x=\"103.548125\" xlink:href=\"#m2df0756fcf\" y=\"224.64\"/>\n      </g>\n     </g>\n     <g id=\"text_2\">\n      <!-- 1 -->\n      <g transform=\"translate(100.366875 239.238437)scale(0.1 -0.1)\">\n       <defs>\n        <path d=\"M 12.40625 8.296875 \nL 28.515625 8.296875 \nL 28.515625 63.921875 \nL 10.984375 60.40625 \nL 10.984375 69.390625 \nL 28.421875 72.90625 \nL 38.28125 72.90625 \nL 38.28125 8.296875 \nL 54.390625 8.296875 \nL 54.390625 0 \nL 12.40625 0 \nz\n\" id=\"DejaVuSans-49\"/>\n       </defs>\n       <use xlink:href=\"#DejaVuSans-49\"/>\n      </g>\n     </g>\n    </g>\n    <g id=\"xtick_3\">\n     <g id=\"line2d_3\">\n      <g>\n       <use style=\"stroke:#000000;stroke-width:0.8;\" x=\"137.028125\" xlink:href=\"#m2df0756fcf\" y=\"224.64\"/>\n      </g>\n     </g>\n     <g id=\"text_3\">\n      <!-- 2 -->\n      <g transform=\"translate(133.846875 239.238437)scale(0.1 -0.1)\">\n       <defs>\n        <path d=\"M 19.1875 8.296875 \nL 53.609375 8.296875 \nL 53.609375 0 \nL 7.328125 0 \nL 7.328125 8.296875 \nQ 12.9375 14.109375 22.625 23.890625 \nQ 32.328125 33.6875 34.8125 36.53125 \nQ 39.546875 41.84375 41.421875 45.53125 \nQ 43.3125 49.21875 43.3125 52.78125 \nQ 43.3125 58.59375 39.234375 62.25 \nQ 35.15625 65.921875 28.609375 65.921875 \nQ 23.96875 65.921875 18.8125 64.3125 \nQ 13.671875 62.703125 7.8125 59.421875 \nL 7.8125 69.390625 \nQ 13.765625 71.78125 18.9375 73 \nQ 24.125 74.21875 28.421875 74.21875 \nQ 39.75 74.21875 46.484375 68.546875 \nQ 53.21875 62.890625 53.21875 53.421875 \nQ 53.21875 48.921875 51.53125 44.890625 \nQ 49.859375 40.875 45.40625 35.40625 \nQ 44.1875 33.984375 37.640625 27.21875 \nQ 31.109375 20.453125 19.1875 8.296875 \nz\n\" id=\"DejaVuSans-50\"/>\n       </defs>\n       <use xlink:href=\"#DejaVuSans-50\"/>\n      </g>\n     </g>\n    </g>\n    <g id=\"xtick_4\">\n     <g id=\"line2d_4\">\n      <g>\n       <use style=\"stroke:#000000;stroke-width:0.8;\" x=\"170.508125\" xlink:href=\"#m2df0756fcf\" y=\"224.64\"/>\n      </g>\n     </g>\n     <g id=\"text_4\">\n      <!-- 3 -->\n      <g transform=\"translate(167.326875 239.238437)scale(0.1 -0.1)\">\n       <defs>\n        <path d=\"M 40.578125 39.3125 \nQ 47.65625 37.796875 51.625 33 \nQ 55.609375 28.21875 55.609375 21.1875 \nQ 55.609375 10.40625 48.1875 4.484375 \nQ 40.765625 -1.421875 27.09375 -1.421875 \nQ 22.515625 -1.421875 17.65625 -0.515625 \nQ 12.796875 0.390625 7.625 2.203125 \nL 7.625 11.71875 \nQ 11.71875 9.328125 16.59375 8.109375 \nQ 21.484375 6.890625 26.8125 6.890625 \nQ 36.078125 6.890625 40.9375 10.546875 \nQ 45.796875 14.203125 45.796875 21.1875 \nQ 45.796875 27.640625 41.28125 31.265625 \nQ 36.765625 34.90625 28.71875 34.90625 \nL 20.21875 34.90625 \nL 20.21875 43.015625 \nL 29.109375 43.015625 \nQ 36.375 43.015625 40.234375 45.921875 \nQ 44.09375 48.828125 44.09375 54.296875 \nQ 44.09375 59.90625 40.109375 62.90625 \nQ 36.140625 65.921875 28.71875 65.921875 \nQ 24.65625 65.921875 20.015625 65.03125 \nQ 15.375 64.15625 9.8125 62.3125 \nL 9.8125 71.09375 \nQ 15.4375 72.65625 20.34375 73.4375 \nQ 25.25 74.21875 29.59375 74.21875 \nQ 40.828125 74.21875 47.359375 69.109375 \nQ 53.90625 64.015625 53.90625 55.328125 \nQ 53.90625 49.265625 50.4375 45.09375 \nQ 46.96875 40.921875 40.578125 39.3125 \nz\n\" id=\"DejaVuSans-51\"/>\n       </defs>\n       <use xlink:href=\"#DejaVuSans-51\"/>\n      </g>\n     </g>\n    </g>\n    <g id=\"xtick_5\">\n     <g id=\"line2d_5\">\n      <g>\n       <use style=\"stroke:#000000;stroke-width:0.8;\" x=\"203.988125\" xlink:href=\"#m2df0756fcf\" y=\"224.64\"/>\n      </g>\n     </g>\n     <g id=\"text_5\">\n      <!-- 4 -->\n      <g transform=\"translate(200.806875 239.238437)scale(0.1 -0.1)\">\n       <defs>\n        <path d=\"M 37.796875 64.3125 \nL 12.890625 25.390625 \nL 37.796875 25.390625 \nz\nM 35.203125 72.90625 \nL 47.609375 72.90625 \nL 47.609375 25.390625 \nL 58.015625 25.390625 \nL 58.015625 17.1875 \nL 47.609375 17.1875 \nL 47.609375 0 \nL 37.796875 0 \nL 37.796875 17.1875 \nL 4.890625 17.1875 \nL 4.890625 26.703125 \nz\n\" id=\"DejaVuSans-52\"/>\n       </defs>\n       <use xlink:href=\"#DejaVuSans-52\"/>\n      </g>\n     </g>\n    </g>\n    <g id=\"xtick_6\">\n     <g id=\"line2d_6\">\n      <g>\n       <use style=\"stroke:#000000;stroke-width:0.8;\" x=\"237.468125\" xlink:href=\"#m2df0756fcf\" y=\"224.64\"/>\n      </g>\n     </g>\n     <g id=\"text_6\">\n      <!-- 5 -->\n      <g transform=\"translate(234.286875 239.238437)scale(0.1 -0.1)\">\n       <defs>\n        <path d=\"M 10.796875 72.90625 \nL 49.515625 72.90625 \nL 49.515625 64.59375 \nL 19.828125 64.59375 \nL 19.828125 46.734375 \nQ 21.96875 47.46875 24.109375 47.828125 \nQ 26.265625 48.1875 28.421875 48.1875 \nQ 40.625 48.1875 47.75 41.5 \nQ 54.890625 34.8125 54.890625 23.390625 \nQ 54.890625 11.625 47.5625 5.09375 \nQ 40.234375 -1.421875 26.90625 -1.421875 \nQ 22.3125 -1.421875 17.546875 -0.640625 \nQ 12.796875 0.140625 7.71875 1.703125 \nL 7.71875 11.625 \nQ 12.109375 9.234375 16.796875 8.0625 \nQ 21.484375 6.890625 26.703125 6.890625 \nQ 35.15625 6.890625 40.078125 11.328125 \nQ 45.015625 15.765625 45.015625 23.390625 \nQ 45.015625 31 40.078125 35.4375 \nQ 35.15625 39.890625 26.703125 39.890625 \nQ 22.75 39.890625 18.8125 39.015625 \nQ 14.890625 38.140625 10.796875 36.28125 \nz\n\" id=\"DejaVuSans-53\"/>\n       </defs>\n       <use xlink:href=\"#DejaVuSans-53\"/>\n      </g>\n     </g>\n    </g>\n    <g id=\"xtick_7\">\n     <g id=\"line2d_7\">\n      <g>\n       <use style=\"stroke:#000000;stroke-width:0.8;\" x=\"270.948125\" xlink:href=\"#m2df0756fcf\" y=\"224.64\"/>\n      </g>\n     </g>\n     <g id=\"text_7\">\n      <!-- 6 -->\n      <g transform=\"translate(267.766875 239.238437)scale(0.1 -0.1)\">\n       <defs>\n        <path d=\"M 33.015625 40.375 \nQ 26.375 40.375 22.484375 35.828125 \nQ 18.609375 31.296875 18.609375 23.390625 \nQ 18.609375 15.53125 22.484375 10.953125 \nQ 26.375 6.390625 33.015625 6.390625 \nQ 39.65625 6.390625 43.53125 10.953125 \nQ 47.40625 15.53125 47.40625 23.390625 \nQ 47.40625 31.296875 43.53125 35.828125 \nQ 39.65625 40.375 33.015625 40.375 \nz\nM 52.59375 71.296875 \nL 52.59375 62.3125 \nQ 48.875 64.0625 45.09375 64.984375 \nQ 41.3125 65.921875 37.59375 65.921875 \nQ 27.828125 65.921875 22.671875 59.328125 \nQ 17.53125 52.734375 16.796875 39.40625 \nQ 19.671875 43.65625 24.015625 45.921875 \nQ 28.375 48.1875 33.59375 48.1875 \nQ 44.578125 48.1875 50.953125 41.515625 \nQ 57.328125 34.859375 57.328125 23.390625 \nQ 57.328125 12.15625 50.6875 5.359375 \nQ 44.046875 -1.421875 33.015625 -1.421875 \nQ 20.359375 -1.421875 13.671875 8.265625 \nQ 6.984375 17.96875 6.984375 36.375 \nQ 6.984375 53.65625 15.1875 63.9375 \nQ 23.390625 74.21875 37.203125 74.21875 \nQ 40.921875 74.21875 44.703125 73.484375 \nQ 48.484375 72.75 52.59375 71.296875 \nz\n\" id=\"DejaVuSans-54\"/>\n       </defs>\n       <use xlink:href=\"#DejaVuSans-54\"/>\n      </g>\n     </g>\n    </g>\n    <g id=\"xtick_8\">\n     <g id=\"line2d_8\">\n      <g>\n       <use style=\"stroke:#000000;stroke-width:0.8;\" x=\"304.428125\" xlink:href=\"#m2df0756fcf\" y=\"224.64\"/>\n      </g>\n     </g>\n     <g id=\"text_8\">\n      <!-- 7 -->\n      <g transform=\"translate(301.246875 239.238437)scale(0.1 -0.1)\">\n       <defs>\n        <path d=\"M 8.203125 72.90625 \nL 55.078125 72.90625 \nL 55.078125 68.703125 \nL 28.609375 0 \nL 18.3125 0 \nL 43.21875 64.59375 \nL 8.203125 64.59375 \nz\n\" id=\"DejaVuSans-55\"/>\n       </defs>\n       <use xlink:href=\"#DejaVuSans-55\"/>\n      </g>\n     </g>\n    </g>\n    <g id=\"xtick_9\">\n     <g id=\"line2d_9\">\n      <g>\n       <use style=\"stroke:#000000;stroke-width:0.8;\" x=\"337.908125\" xlink:href=\"#m2df0756fcf\" y=\"224.64\"/>\n      </g>\n     </g>\n     <g id=\"text_9\">\n      <!-- 8 -->\n      <g transform=\"translate(334.726875 239.238437)scale(0.1 -0.1)\">\n       <defs>\n        <path d=\"M 31.78125 34.625 \nQ 24.75 34.625 20.71875 30.859375 \nQ 16.703125 27.09375 16.703125 20.515625 \nQ 16.703125 13.921875 20.71875 10.15625 \nQ 24.75 6.390625 31.78125 6.390625 \nQ 38.8125 6.390625 42.859375 10.171875 \nQ 46.921875 13.96875 46.921875 20.515625 \nQ 46.921875 27.09375 42.890625 30.859375 \nQ 38.875 34.625 31.78125 34.625 \nz\nM 21.921875 38.8125 \nQ 15.578125 40.375 12.03125 44.71875 \nQ 8.5 49.078125 8.5 55.328125 \nQ 8.5 64.0625 14.71875 69.140625 \nQ 20.953125 74.21875 31.78125 74.21875 \nQ 42.671875 74.21875 48.875 69.140625 \nQ 55.078125 64.0625 55.078125 55.328125 \nQ 55.078125 49.078125 51.53125 44.71875 \nQ 48 40.375 41.703125 38.8125 \nQ 48.828125 37.15625 52.796875 32.3125 \nQ 56.78125 27.484375 56.78125 20.515625 \nQ 56.78125 9.90625 50.3125 4.234375 \nQ 43.84375 -1.421875 31.78125 -1.421875 \nQ 19.734375 -1.421875 13.25 4.234375 \nQ 6.78125 9.90625 6.78125 20.515625 \nQ 6.78125 27.484375 10.78125 32.3125 \nQ 14.796875 37.15625 21.921875 38.8125 \nz\nM 18.3125 54.390625 \nQ 18.3125 48.734375 21.84375 45.5625 \nQ 25.390625 42.390625 31.78125 42.390625 \nQ 38.140625 42.390625 41.71875 45.5625 \nQ 45.3125 48.734375 45.3125 54.390625 \nQ 45.3125 60.0625 41.71875 63.234375 \nQ 38.140625 66.40625 31.78125 66.40625 \nQ 25.390625 66.40625 21.84375 63.234375 \nQ 18.3125 60.0625 18.3125 54.390625 \nz\n\" id=\"DejaVuSans-56\"/>\n       </defs>\n       <use xlink:href=\"#DejaVuSans-56\"/>\n      </g>\n     </g>\n    </g>\n    <g id=\"xtick_10\">\n     <g id=\"line2d_10\">\n      <g>\n       <use style=\"stroke:#000000;stroke-width:0.8;\" x=\"371.388125\" xlink:href=\"#m2df0756fcf\" y=\"224.64\"/>\n      </g>\n     </g>\n     <g id=\"text_10\">\n      <!-- 9 -->\n      <g transform=\"translate(368.206875 239.238437)scale(0.1 -0.1)\">\n       <defs>\n        <path d=\"M 10.984375 1.515625 \nL 10.984375 10.5 \nQ 14.703125 8.734375 18.5 7.8125 \nQ 22.3125 6.890625 25.984375 6.890625 \nQ 35.75 6.890625 40.890625 13.453125 \nQ 46.046875 20.015625 46.78125 33.40625 \nQ 43.953125 29.203125 39.59375 26.953125 \nQ 35.25 24.703125 29.984375 24.703125 \nQ 19.046875 24.703125 12.671875 31.3125 \nQ 6.296875 37.9375 6.296875 49.421875 \nQ 6.296875 60.640625 12.9375 67.421875 \nQ 19.578125 74.21875 30.609375 74.21875 \nQ 43.265625 74.21875 49.921875 64.515625 \nQ 56.59375 54.828125 56.59375 36.375 \nQ 56.59375 19.140625 48.40625 8.859375 \nQ 40.234375 -1.421875 26.421875 -1.421875 \nQ 22.703125 -1.421875 18.890625 -0.6875 \nQ 15.09375 0.046875 10.984375 1.515625 \nz\nM 30.609375 32.421875 \nQ 37.25 32.421875 41.125 36.953125 \nQ 45.015625 41.5 45.015625 49.421875 \nQ 45.015625 57.28125 41.125 61.84375 \nQ 37.25 66.40625 30.609375 66.40625 \nQ 23.96875 66.40625 20.09375 61.84375 \nQ 16.21875 57.28125 16.21875 49.421875 \nQ 16.21875 41.5 20.09375 36.953125 \nQ 23.96875 32.421875 30.609375 32.421875 \nz\n\" id=\"DejaVuSans-57\"/>\n       </defs>\n       <use xlink:href=\"#DejaVuSans-57\"/>\n      </g>\n     </g>\n    </g>\n    <g id=\"text_11\">\n     <!-- label -->\n     <g transform=\"translate(208.635156 252.916562)scale(0.1 -0.1)\">\n      <defs>\n       <path d=\"M 9.421875 75.984375 \nL 18.40625 75.984375 \nL 18.40625 0 \nL 9.421875 0 \nz\n\" id=\"DejaVuSans-108\"/>\n       <path d=\"M 34.28125 27.484375 \nQ 23.390625 27.484375 19.1875 25 \nQ 14.984375 22.515625 14.984375 16.5 \nQ 14.984375 11.71875 18.140625 8.90625 \nQ 21.296875 6.109375 26.703125 6.109375 \nQ 34.1875 6.109375 38.703125 11.40625 \nQ 43.21875 16.703125 43.21875 25.484375 \nL 43.21875 27.484375 \nz\nM 52.203125 31.203125 \nL 52.203125 0 \nL 43.21875 0 \nL 43.21875 8.296875 \nQ 40.140625 3.328125 35.546875 0.953125 \nQ 30.953125 -1.421875 24.3125 -1.421875 \nQ 15.921875 -1.421875 10.953125 3.296875 \nQ 6 8.015625 6 15.921875 \nQ 6 25.140625 12.171875 29.828125 \nQ 18.359375 34.515625 30.609375 34.515625 \nL 43.21875 34.515625 \nL 43.21875 35.40625 \nQ 43.21875 41.609375 39.140625 45 \nQ 35.0625 48.390625 27.6875 48.390625 \nQ 23 48.390625 18.546875 47.265625 \nQ 14.109375 46.140625 10.015625 43.890625 \nL 10.015625 52.203125 \nQ 14.9375 54.109375 19.578125 55.046875 \nQ 24.21875 56 28.609375 56 \nQ 40.484375 56 46.34375 49.84375 \nQ 52.203125 43.703125 52.203125 31.203125 \nz\n\" id=\"DejaVuSans-97\"/>\n       <path d=\"M 48.6875 27.296875 \nQ 48.6875 37.203125 44.609375 42.84375 \nQ 40.53125 48.484375 33.40625 48.484375 \nQ 26.265625 48.484375 22.1875 42.84375 \nQ 18.109375 37.203125 18.109375 27.296875 \nQ 18.109375 17.390625 22.1875 11.75 \nQ 26.265625 6.109375 33.40625 6.109375 \nQ 40.53125 6.109375 44.609375 11.75 \nQ 48.6875 17.390625 48.6875 27.296875 \nz\nM 18.109375 46.390625 \nQ 20.953125 51.265625 25.265625 53.625 \nQ 29.59375 56 35.59375 56 \nQ 45.5625 56 51.78125 48.09375 \nQ 58.015625 40.1875 58.015625 27.296875 \nQ 58.015625 14.40625 51.78125 6.484375 \nQ 45.5625 -1.421875 35.59375 -1.421875 \nQ 29.59375 -1.421875 25.265625 0.953125 \nQ 20.953125 3.328125 18.109375 8.203125 \nL 18.109375 0 \nL 9.078125 0 \nL 9.078125 75.984375 \nL 18.109375 75.984375 \nz\n\" id=\"DejaVuSans-98\"/>\n       <path d=\"M 56.203125 29.59375 \nL 56.203125 25.203125 \nL 14.890625 25.203125 \nQ 15.484375 15.921875 20.484375 11.0625 \nQ 25.484375 6.203125 34.421875 6.203125 \nQ 39.59375 6.203125 44.453125 7.46875 \nQ 49.3125 8.734375 54.109375 11.28125 \nL 54.109375 2.78125 \nQ 49.265625 0.734375 44.1875 -0.34375 \nQ 39.109375 -1.421875 33.890625 -1.421875 \nQ 20.796875 -1.421875 13.15625 6.1875 \nQ 5.515625 13.8125 5.515625 26.8125 \nQ 5.515625 40.234375 12.765625 48.109375 \nQ 20.015625 56 32.328125 56 \nQ 43.359375 56 49.78125 48.890625 \nQ 56.203125 41.796875 56.203125 29.59375 \nz\nM 47.21875 32.234375 \nQ 47.125 39.59375 43.09375 43.984375 \nQ 39.0625 48.390625 32.421875 48.390625 \nQ 24.90625 48.390625 20.390625 44.140625 \nQ 15.875 39.890625 15.1875 32.171875 \nz\n\" id=\"DejaVuSans-101\"/>\n      </defs>\n      <use xlink:href=\"#DejaVuSans-108\"/>\n      <use x=\"27.783203\" xlink:href=\"#DejaVuSans-97\"/>\n      <use x=\"89.0625\" xlink:href=\"#DejaVuSans-98\"/>\n      <use x=\"152.539062\" xlink:href=\"#DejaVuSans-101\"/>\n      <use x=\"214.0625\" xlink:href=\"#DejaVuSans-108\"/>\n     </g>\n    </g>\n   </g>\n   <g id=\"matplotlib.axis_2\">\n    <g id=\"ytick_1\">\n     <g id=\"line2d_11\">\n      <defs>\n       <path d=\"M 0 0 \nL -3.5 0 \n\" id=\"m3f49c14be9\" style=\"stroke:#000000;stroke-width:0.8;\"/>\n      </defs>\n      <g>\n       <use style=\"stroke:#000000;stroke-width:0.8;\" x=\"53.328125\" xlink:href=\"#m3f49c14be9\" y=\"224.64\"/>\n      </g>\n     </g>\n     <g id=\"text_12\">\n      <!-- 0 -->\n      <g transform=\"translate(39.965625 228.439219)scale(0.1 -0.1)\">\n       <use xlink:href=\"#DejaVuSans-48\"/>\n      </g>\n     </g>\n    </g>\n    <g id=\"ytick_2\">\n     <g id=\"line2d_12\">\n      <g>\n       <use style=\"stroke:#000000;stroke-width:0.8;\" x=\"53.328125\" xlink:href=\"#m3f49c14be9\" y=\"180.428703\"/>\n      </g>\n     </g>\n     <g id=\"text_13\">\n      <!-- 1000 -->\n      <g transform=\"translate(20.878125 184.227922)scale(0.1 -0.1)\">\n       <use xlink:href=\"#DejaVuSans-49\"/>\n       <use x=\"63.623047\" xlink:href=\"#DejaVuSans-48\"/>\n       <use x=\"127.246094\" xlink:href=\"#DejaVuSans-48\"/>\n       <use x=\"190.869141\" xlink:href=\"#DejaVuSans-48\"/>\n      </g>\n     </g>\n    </g>\n    <g id=\"ytick_3\">\n     <g id=\"line2d_13\">\n      <g>\n       <use style=\"stroke:#000000;stroke-width:0.8;\" x=\"53.328125\" xlink:href=\"#m3f49c14be9\" y=\"136.217406\"/>\n      </g>\n     </g>\n     <g id=\"text_14\">\n      <!-- 2000 -->\n      <g transform=\"translate(20.878125 140.016625)scale(0.1 -0.1)\">\n       <use xlink:href=\"#DejaVuSans-50\"/>\n       <use x=\"63.623047\" xlink:href=\"#DejaVuSans-48\"/>\n       <use x=\"127.246094\" xlink:href=\"#DejaVuSans-48\"/>\n       <use x=\"190.869141\" xlink:href=\"#DejaVuSans-48\"/>\n      </g>\n     </g>\n    </g>\n    <g id=\"ytick_4\">\n     <g id=\"line2d_14\">\n      <g>\n       <use style=\"stroke:#000000;stroke-width:0.8;\" x=\"53.328125\" xlink:href=\"#m3f49c14be9\" y=\"92.00611\"/>\n      </g>\n     </g>\n     <g id=\"text_15\">\n      <!-- 3000 -->\n      <g transform=\"translate(20.878125 95.805328)scale(0.1 -0.1)\">\n       <use xlink:href=\"#DejaVuSans-51\"/>\n       <use x=\"63.623047\" xlink:href=\"#DejaVuSans-48\"/>\n       <use x=\"127.246094\" xlink:href=\"#DejaVuSans-48\"/>\n       <use x=\"190.869141\" xlink:href=\"#DejaVuSans-48\"/>\n      </g>\n     </g>\n    </g>\n    <g id=\"ytick_5\">\n     <g id=\"line2d_15\">\n      <g>\n       <use style=\"stroke:#000000;stroke-width:0.8;\" x=\"53.328125\" xlink:href=\"#m3f49c14be9\" y=\"47.794813\"/>\n      </g>\n     </g>\n     <g id=\"text_16\">\n      <!-- 4000 -->\n      <g transform=\"translate(20.878125 51.594031)scale(0.1 -0.1)\">\n       <use xlink:href=\"#DejaVuSans-52\"/>\n       <use x=\"63.623047\" xlink:href=\"#DejaVuSans-48\"/>\n       <use x=\"127.246094\" xlink:href=\"#DejaVuSans-48\"/>\n       <use x=\"190.869141\" xlink:href=\"#DejaVuSans-48\"/>\n      </g>\n     </g>\n    </g>\n    <g id=\"text_17\">\n     <!-- count -->\n     <g transform=\"translate(14.798438 130.02625)rotate(-90)scale(0.1 -0.1)\">\n      <defs>\n       <path d=\"M 48.78125 52.59375 \nL 48.78125 44.1875 \nQ 44.96875 46.296875 41.140625 47.34375 \nQ 37.3125 48.390625 33.40625 48.390625 \nQ 24.65625 48.390625 19.8125 42.84375 \nQ 14.984375 37.3125 14.984375 27.296875 \nQ 14.984375 17.28125 19.8125 11.734375 \nQ 24.65625 6.203125 33.40625 6.203125 \nQ 37.3125 6.203125 41.140625 7.25 \nQ 44.96875 8.296875 48.78125 10.40625 \nL 48.78125 2.09375 \nQ 45.015625 0.34375 40.984375 -0.53125 \nQ 36.96875 -1.421875 32.421875 -1.421875 \nQ 20.0625 -1.421875 12.78125 6.34375 \nQ 5.515625 14.109375 5.515625 27.296875 \nQ 5.515625 40.671875 12.859375 48.328125 \nQ 20.21875 56 33.015625 56 \nQ 37.15625 56 41.109375 55.140625 \nQ 45.0625 54.296875 48.78125 52.59375 \nz\n\" id=\"DejaVuSans-99\"/>\n       <path d=\"M 30.609375 48.390625 \nQ 23.390625 48.390625 19.1875 42.75 \nQ 14.984375 37.109375 14.984375 27.296875 \nQ 14.984375 17.484375 19.15625 11.84375 \nQ 23.34375 6.203125 30.609375 6.203125 \nQ 37.796875 6.203125 41.984375 11.859375 \nQ 46.1875 17.53125 46.1875 27.296875 \nQ 46.1875 37.015625 41.984375 42.703125 \nQ 37.796875 48.390625 30.609375 48.390625 \nz\nM 30.609375 56 \nQ 42.328125 56 49.015625 48.375 \nQ 55.71875 40.765625 55.71875 27.296875 \nQ 55.71875 13.875 49.015625 6.21875 \nQ 42.328125 -1.421875 30.609375 -1.421875 \nQ 18.84375 -1.421875 12.171875 6.21875 \nQ 5.515625 13.875 5.515625 27.296875 \nQ 5.515625 40.765625 12.171875 48.375 \nQ 18.84375 56 30.609375 56 \nz\n\" id=\"DejaVuSans-111\"/>\n       <path d=\"M 8.5 21.578125 \nL 8.5 54.6875 \nL 17.484375 54.6875 \nL 17.484375 21.921875 \nQ 17.484375 14.15625 20.5 10.265625 \nQ 23.53125 6.390625 29.59375 6.390625 \nQ 36.859375 6.390625 41.078125 11.03125 \nQ 45.3125 15.671875 45.3125 23.6875 \nL 45.3125 54.6875 \nL 54.296875 54.6875 \nL 54.296875 0 \nL 45.3125 0 \nL 45.3125 8.40625 \nQ 42.046875 3.421875 37.71875 1 \nQ 33.40625 -1.421875 27.6875 -1.421875 \nQ 18.265625 -1.421875 13.375 4.4375 \nQ 8.5 10.296875 8.5 21.578125 \nz\nM 31.109375 56 \nz\n\" id=\"DejaVuSans-117\"/>\n       <path d=\"M 54.890625 33.015625 \nL 54.890625 0 \nL 45.90625 0 \nL 45.90625 32.71875 \nQ 45.90625 40.484375 42.875 44.328125 \nQ 39.84375 48.1875 33.796875 48.1875 \nQ 26.515625 48.1875 22.3125 43.546875 \nQ 18.109375 38.921875 18.109375 30.90625 \nL 18.109375 0 \nL 9.078125 0 \nL 9.078125 54.6875 \nL 18.109375 54.6875 \nL 18.109375 46.1875 \nQ 21.34375 51.125 25.703125 53.5625 \nQ 30.078125 56 35.796875 56 \nQ 45.21875 56 50.046875 50.171875 \nQ 54.890625 44.34375 54.890625 33.015625 \nz\n\" id=\"DejaVuSans-110\"/>\n       <path d=\"M 18.3125 70.21875 \nL 18.3125 54.6875 \nL 36.8125 54.6875 \nL 36.8125 47.703125 \nL 18.3125 47.703125 \nL 18.3125 18.015625 \nQ 18.3125 11.328125 20.140625 9.421875 \nQ 21.96875 7.515625 27.59375 7.515625 \nL 36.8125 7.515625 \nL 36.8125 0 \nL 27.59375 0 \nQ 17.1875 0 13.234375 3.875 \nQ 9.28125 7.765625 9.28125 18.015625 \nL 9.28125 47.703125 \nL 2.6875 47.703125 \nL 2.6875 54.6875 \nL 9.28125 54.6875 \nL 9.28125 70.21875 \nz\n\" id=\"DejaVuSans-116\"/>\n      </defs>\n      <use xlink:href=\"#DejaVuSans-99\"/>\n      <use x=\"54.980469\" xlink:href=\"#DejaVuSans-111\"/>\n      <use x=\"116.162109\" xlink:href=\"#DejaVuSans-117\"/>\n      <use x=\"179.541016\" xlink:href=\"#DejaVuSans-110\"/>\n      <use x=\"242.919922\" xlink:href=\"#DejaVuSans-116\"/>\n     </g>\n    </g>\n   </g>\n   <g id=\"patch_13\">\n    <path d=\"M 53.328125 224.64 \nL 53.328125 7.2 \n\" style=\"fill:none;stroke:#000000;stroke-linecap:square;stroke-linejoin:miter;stroke-width:0.8;\"/>\n   </g>\n   <g id=\"patch_14\">\n    <path d=\"M 388.128125 224.64 \nL 388.128125 7.2 \n\" style=\"fill:none;stroke:#000000;stroke-linecap:square;stroke-linejoin:miter;stroke-width:0.8;\"/>\n   </g>\n   <g id=\"patch_15\">\n    <path d=\"M 53.328125 224.64 \nL 388.128125 224.64 \n\" style=\"fill:none;stroke:#000000;stroke-linecap:square;stroke-linejoin:miter;stroke-width:0.8;\"/>\n   </g>\n   <g id=\"patch_16\">\n    <path d=\"M 53.328125 7.2 \nL 388.128125 7.2 \n\" style=\"fill:none;stroke:#000000;stroke-linecap:square;stroke-linejoin:miter;stroke-width:0.8;\"/>\n   </g>\n  </g>\n </g>\n <defs>\n  <clipPath id=\"pdf93f8ccc6\">\n   <rect height=\"217.44\" width=\"334.8\" x=\"53.328125\" y=\"7.2\"/>\n  </clipPath>\n </defs>\n</svg>\n",
                        "image/png": "[encoded data removed]"
                    },
                    "metadata": {
                        "needs_background": "light"
                    }
                }
            ],
            "metadata": {}
        },
        {
            "cell_type": "code",
            "execution_count": 38,
            "source": [
                "x = data.drop('label',axis = 1).to_numpy()\n",
                "y = data['label'].to_numpy()"
            ],
            "outputs": [],
            "metadata": {}
        },
        {
            "cell_type": "code",
            "execution_count": 39,
            "source": [
                "plt.imshow(x[900].reshape(28,28),cmap = plt.cm.binary)"
            ],
            "outputs": [
                {
                    "output_type": "execute_result",
                    "data": {
                        "text/plain": [
                            "<matplotlib.image.AxesImage at 0x7fe607cb1670>"
                        ]
                    },
                    "metadata": {},
                    "execution_count": 39
                },
                {
                    "output_type": "display_data",
                    "data": {
                        "text/plain": [
                            "<Figure size 432x288 with 1 Axes>"
                        ],
                        "image/svg+xml": "<?xml version=\"1.0\" encoding=\"utf-8\" standalone=\"no\"?>\n<!DOCTYPE svg PUBLIC \"-//W3C//DTD SVG 1.1//EN\"\n  \"http://www.w3.org/Graphics/SVG/1.1/DTD/svg11.dtd\">\n<!-- Created with matplotlib (https://matplotlib.org/) -->\n<svg height=\"248.518125pt\" version=\"1.1\" viewBox=\"0 0 251.565 248.518125\" width=\"251.565pt\" xmlns=\"http://www.w3.org/2000/svg\" xmlns:xlink=\"http://www.w3.org/1999/xlink\">\n <metadata>\n  <rdf:RDF xmlns:cc=\"http://creativecommons.org/ns#\" xmlns:dc=\"http://purl.org/dc/elements/1.1/\" xmlns:rdf=\"http://www.w3.org/1999/02/22-rdf-syntax-ns#\">\n   <cc:Work>\n    <dc:type rdf:resource=\"http://purl.org/dc/dcmitype/StillImage\"/>\n    <dc:date>2021-08-19T20:19:52.993888</dc:date>\n    <dc:format>image/svg+xml</dc:format>\n    <dc:creator>\n     <cc:Agent>\n      <dc:title>Matplotlib v3.3.4, https://matplotlib.org/</dc:title>\n     </cc:Agent>\n    </dc:creator>\n   </cc:Work>\n  </rdf:RDF>\n </metadata>\n <defs>\n  <style type=\"text/css\">*{stroke-linecap:butt;stroke-linejoin:round;}</style>\n </defs>\n <g id=\"figure_1\">\n  <g id=\"patch_1\">\n   <path d=\"M 0 248.518125 \nL 251.565 248.518125 \nL 251.565 0 \nL 0 0 \nz\n\" style=\"fill:none;\"/>\n  </g>\n  <g id=\"axes_1\">\n   <g id=\"patch_2\">\n    <path d=\"M 26.925 224.64 \nL 244.365 224.64 \nL 244.365 7.2 \nL 26.925 7.2 \nz\n\" style=\"fill:#ffffff;\"/>\n   </g>\n   <g clip-path=\"url(#p98e9293465)\">\n    <image height=\"218\" id=\"imageb8494644aa\" transform=\"scale(1 -1)translate(0 -218)\" width=\"218\" x=\"26.925\" xlink:href=\"data:image/png;base64,\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\" y=\"-6.64\"/>\n   </g>\n   <g id=\"matplotlib.axis_1\">\n    <g id=\"xtick_1\">\n     <g id=\"line2d_1\">\n      <defs>\n       <path d=\"M 0 0 \nL 0 3.5 \n\" id=\"m9d1d805908\" style=\"stroke:#000000;stroke-width:0.8;\"/>\n      </defs>\n      <g>\n       <use style=\"stroke:#000000;stroke-width:0.8;\" x=\"30.807857\" xlink:href=\"#m9d1d805908\" y=\"224.64\"/>\n      </g>\n     </g>\n     <g id=\"text_1\">\n      <!-- 0 -->\n      <g transform=\"translate(27.626607 239.238437)scale(0.1 -0.1)\">\n       <defs>\n        <path d=\"M 31.78125 66.40625 \nQ 24.171875 66.40625 20.328125 58.90625 \nQ 16.5 51.421875 16.5 36.375 \nQ 16.5 21.390625 20.328125 13.890625 \nQ 24.171875 6.390625 31.78125 6.390625 \nQ 39.453125 6.390625 43.28125 13.890625 \nQ 47.125 21.390625 47.125 36.375 \nQ 47.125 51.421875 43.28125 58.90625 \nQ 39.453125 66.40625 31.78125 66.40625 \nz\nM 31.78125 74.21875 \nQ 44.046875 74.21875 50.515625 64.515625 \nQ 56.984375 54.828125 56.984375 36.375 \nQ 56.984375 17.96875 50.515625 8.265625 \nQ 44.046875 -1.421875 31.78125 -1.421875 \nQ 19.53125 -1.421875 13.0625 8.265625 \nQ 6.59375 17.96875 6.59375 36.375 \nQ 6.59375 54.828125 13.0625 64.515625 \nQ 19.53125 74.21875 31.78125 74.21875 \nz\n\" id=\"DejaVuSans-48\"/>\n       </defs>\n       <use xlink:href=\"#DejaVuSans-48\"/>\n      </g>\n     </g>\n    </g>\n    <g id=\"xtick_2\">\n     <g id=\"line2d_2\">\n      <g>\n       <use style=\"stroke:#000000;stroke-width:0.8;\" x=\"69.636429\" xlink:href=\"#m9d1d805908\" y=\"224.64\"/>\n      </g>\n     </g>\n     <g id=\"text_2\">\n      <!-- 5 -->\n      <g transform=\"translate(66.455179 239.238437)scale(0.1 -0.1)\">\n       <defs>\n        <path d=\"M 10.796875 72.90625 \nL 49.515625 72.90625 \nL 49.515625 64.59375 \nL 19.828125 64.59375 \nL 19.828125 46.734375 \nQ 21.96875 47.46875 24.109375 47.828125 \nQ 26.265625 48.1875 28.421875 48.1875 \nQ 40.625 48.1875 47.75 41.5 \nQ 54.890625 34.8125 54.890625 23.390625 \nQ 54.890625 11.625 47.5625 5.09375 \nQ 40.234375 -1.421875 26.90625 -1.421875 \nQ 22.3125 -1.421875 17.546875 -0.640625 \nQ 12.796875 0.140625 7.71875 1.703125 \nL 7.71875 11.625 \nQ 12.109375 9.234375 16.796875 8.0625 \nQ 21.484375 6.890625 26.703125 6.890625 \nQ 35.15625 6.890625 40.078125 11.328125 \nQ 45.015625 15.765625 45.015625 23.390625 \nQ 45.015625 31 40.078125 35.4375 \nQ 35.15625 39.890625 26.703125 39.890625 \nQ 22.75 39.890625 18.8125 39.015625 \nQ 14.890625 38.140625 10.796875 36.28125 \nz\n\" id=\"DejaVuSans-53\"/>\n       </defs>\n       <use xlink:href=\"#DejaVuSans-53\"/>\n      </g>\n     </g>\n    </g>\n    <g id=\"xtick_3\">\n     <g id=\"line2d_3\">\n      <g>\n       <use style=\"stroke:#000000;stroke-width:0.8;\" x=\"108.465\" xlink:href=\"#m9d1d805908\" y=\"224.64\"/>\n      </g>\n     </g>\n     <g id=\"text_3\">\n      <!-- 10 -->\n      <g transform=\"translate(102.1025 239.238437)scale(0.1 -0.1)\">\n       <defs>\n        <path d=\"M 12.40625 8.296875 \nL 28.515625 8.296875 \nL 28.515625 63.921875 \nL 10.984375 60.40625 \nL 10.984375 69.390625 \nL 28.421875 72.90625 \nL 38.28125 72.90625 \nL 38.28125 8.296875 \nL 54.390625 8.296875 \nL 54.390625 0 \nL 12.40625 0 \nz\n\" id=\"DejaVuSans-49\"/>\n       </defs>\n       <use xlink:href=\"#DejaVuSans-49\"/>\n       <use x=\"63.623047\" xlink:href=\"#DejaVuSans-48\"/>\n      </g>\n     </g>\n    </g>\n    <g id=\"xtick_4\">\n     <g id=\"line2d_4\">\n      <g>\n       <use style=\"stroke:#000000;stroke-width:0.8;\" x=\"147.293571\" xlink:href=\"#m9d1d805908\" y=\"224.64\"/>\n      </g>\n     </g>\n     <g id=\"text_4\">\n      <!-- 15 -->\n      <g transform=\"translate(140.931071 239.238437)scale(0.1 -0.1)\">\n       <use xlink:href=\"#DejaVuSans-49\"/>\n       <use x=\"63.623047\" xlink:href=\"#DejaVuSans-53\"/>\n      </g>\n     </g>\n    </g>\n    <g id=\"xtick_5\">\n     <g id=\"line2d_5\">\n      <g>\n       <use style=\"stroke:#000000;stroke-width:0.8;\" x=\"186.122143\" xlink:href=\"#m9d1d805908\" y=\"224.64\"/>\n      </g>\n     </g>\n     <g id=\"text_5\">\n      <!-- 20 -->\n      <g transform=\"translate(179.759643 239.238437)scale(0.1 -0.1)\">\n       <defs>\n        <path d=\"M 19.1875 8.296875 \nL 53.609375 8.296875 \nL 53.609375 0 \nL 7.328125 0 \nL 7.328125 8.296875 \nQ 12.9375 14.109375 22.625 23.890625 \nQ 32.328125 33.6875 34.8125 36.53125 \nQ 39.546875 41.84375 41.421875 45.53125 \nQ 43.3125 49.21875 43.3125 52.78125 \nQ 43.3125 58.59375 39.234375 62.25 \nQ 35.15625 65.921875 28.609375 65.921875 \nQ 23.96875 65.921875 18.8125 64.3125 \nQ 13.671875 62.703125 7.8125 59.421875 \nL 7.8125 69.390625 \nQ 13.765625 71.78125 18.9375 73 \nQ 24.125 74.21875 28.421875 74.21875 \nQ 39.75 74.21875 46.484375 68.546875 \nQ 53.21875 62.890625 53.21875 53.421875 \nQ 53.21875 48.921875 51.53125 44.890625 \nQ 49.859375 40.875 45.40625 35.40625 \nQ 44.1875 33.984375 37.640625 27.21875 \nQ 31.109375 20.453125 19.1875 8.296875 \nz\n\" id=\"DejaVuSans-50\"/>\n       </defs>\n       <use xlink:href=\"#DejaVuSans-50\"/>\n       <use x=\"63.623047\" xlink:href=\"#DejaVuSans-48\"/>\n      </g>\n     </g>\n    </g>\n    <g id=\"xtick_6\">\n     <g id=\"line2d_6\">\n      <g>\n       <use style=\"stroke:#000000;stroke-width:0.8;\" x=\"224.950714\" xlink:href=\"#m9d1d805908\" y=\"224.64\"/>\n      </g>\n     </g>\n     <g id=\"text_6\">\n      <!-- 25 -->\n      <g transform=\"translate(218.588214 239.238437)scale(0.1 -0.1)\">\n       <use xlink:href=\"#DejaVuSans-50\"/>\n       <use x=\"63.623047\" xlink:href=\"#DejaVuSans-53\"/>\n      </g>\n     </g>\n    </g>\n   </g>\n   <g id=\"matplotlib.axis_2\">\n    <g id=\"ytick_1\">\n     <g id=\"line2d_7\">\n      <defs>\n       <path d=\"M 0 0 \nL -3.5 0 \n\" id=\"m4fb1fa5ee4\" style=\"stroke:#000000;stroke-width:0.8;\"/>\n      </defs>\n      <g>\n       <use style=\"stroke:#000000;stroke-width:0.8;\" x=\"26.925\" xlink:href=\"#m4fb1fa5ee4\" y=\"11.082857\"/>\n      </g>\n     </g>\n     <g id=\"text_7\">\n      <!-- 0 -->\n      <g transform=\"translate(13.5625 14.882076)scale(0.1 -0.1)\">\n       <use xlink:href=\"#DejaVuSans-48\"/>\n      </g>\n     </g>\n    </g>\n    <g id=\"ytick_2\">\n     <g id=\"line2d_8\">\n      <g>\n       <use style=\"stroke:#000000;stroke-width:0.8;\" x=\"26.925\" xlink:href=\"#m4fb1fa5ee4\" y=\"49.911429\"/>\n      </g>\n     </g>\n     <g id=\"text_8\">\n      <!-- 5 -->\n      <g transform=\"translate(13.5625 53.710647)scale(0.1 -0.1)\">\n       <use xlink:href=\"#DejaVuSans-53\"/>\n      </g>\n     </g>\n    </g>\n    <g id=\"ytick_3\">\n     <g id=\"line2d_9\">\n      <g>\n       <use style=\"stroke:#000000;stroke-width:0.8;\" x=\"26.925\" xlink:href=\"#m4fb1fa5ee4\" y=\"88.74\"/>\n      </g>\n     </g>\n     <g id=\"text_9\">\n      <!-- 10 -->\n      <g transform=\"translate(7.2 92.539219)scale(0.1 -0.1)\">\n       <use xlink:href=\"#DejaVuSans-49\"/>\n       <use x=\"63.623047\" xlink:href=\"#DejaVuSans-48\"/>\n      </g>\n     </g>\n    </g>\n    <g id=\"ytick_4\">\n     <g id=\"line2d_10\">\n      <g>\n       <use style=\"stroke:#000000;stroke-width:0.8;\" x=\"26.925\" xlink:href=\"#m4fb1fa5ee4\" y=\"127.568571\"/>\n      </g>\n     </g>\n     <g id=\"text_10\">\n      <!-- 15 -->\n      <g transform=\"translate(7.2 131.36779)scale(0.1 -0.1)\">\n       <use xlink:href=\"#DejaVuSans-49\"/>\n       <use x=\"63.623047\" xlink:href=\"#DejaVuSans-53\"/>\n      </g>\n     </g>\n    </g>\n    <g id=\"ytick_5\">\n     <g id=\"line2d_11\">\n      <g>\n       <use style=\"stroke:#000000;stroke-width:0.8;\" x=\"26.925\" xlink:href=\"#m4fb1fa5ee4\" y=\"166.397143\"/>\n      </g>\n     </g>\n     <g id=\"text_11\">\n      <!-- 20 -->\n      <g transform=\"translate(7.2 170.196362)scale(0.1 -0.1)\">\n       <use xlink:href=\"#DejaVuSans-50\"/>\n       <use x=\"63.623047\" xlink:href=\"#DejaVuSans-48\"/>\n      </g>\n     </g>\n    </g>\n    <g id=\"ytick_6\">\n     <g id=\"line2d_12\">\n      <g>\n       <use style=\"stroke:#000000;stroke-width:0.8;\" x=\"26.925\" xlink:href=\"#m4fb1fa5ee4\" y=\"205.225714\"/>\n      </g>\n     </g>\n     <g id=\"text_12\">\n      <!-- 25 -->\n      <g transform=\"translate(7.2 209.024933)scale(0.1 -0.1)\">\n       <use xlink:href=\"#DejaVuSans-50\"/>\n       <use x=\"63.623047\" xlink:href=\"#DejaVuSans-53\"/>\n      </g>\n     </g>\n    </g>\n   </g>\n   <g id=\"patch_3\">\n    <path d=\"M 26.925 224.64 \nL 26.925 7.2 \n\" style=\"fill:none;stroke:#000000;stroke-linecap:square;stroke-linejoin:miter;stroke-width:0.8;\"/>\n   </g>\n   <g id=\"patch_4\">\n    <path d=\"M 244.365 224.64 \nL 244.365 7.2 \n\" style=\"fill:none;stroke:#000000;stroke-linecap:square;stroke-linejoin:miter;stroke-width:0.8;\"/>\n   </g>\n   <g id=\"patch_5\">\n    <path d=\"M 26.925 224.64 \nL 244.365 224.64 \n\" style=\"fill:none;stroke:#000000;stroke-linecap:square;stroke-linejoin:miter;stroke-width:0.8;\"/>\n   </g>\n   <g id=\"patch_6\">\n    <path d=\"M 26.925 7.2 \nL 244.365 7.2 \n\" style=\"fill:none;stroke:#000000;stroke-linecap:square;stroke-linejoin:miter;stroke-width:0.8;\"/>\n   </g>\n  </g>\n </g>\n <defs>\n  <clipPath id=\"p98e9293465\">\n   <rect height=\"217.44\" width=\"217.44\" x=\"26.925\" y=\"7.2\"/>\n  </clipPath>\n </defs>\n</svg>\n",
                        "image/png": "[encoded data removed]"
                    },
                    "metadata": {
                        "needs_background": "light"
                    }
                }
            ],
            "metadata": {}
        },
        {
            "cell_type": "code",
            "execution_count": 40,
            "source": [
                "for i in range(9):\n",
                "    plt.subplot(3,3,i+1)\n",
                "    plt.imshow(x[i].reshape(28,28),cmap = plt.cm.binary)"
            ],
            "outputs": [
                {
                    "output_type": "display_data",
                    "data": {
                        "text/plain": [
                            "<Figure size 432x288 with 9 Axes>"
                        ],
                        "image/svg+xml": "<?xml version=\"1.0\" encoding=\"utf-8\" standalone=\"no\"?>\n<!DOCTYPE svg PUBLIC \"-//W3C//DTD SVG 1.1//EN\"\n  \"http://www.w3.org/Graphics/SVG/1.1/DTD/svg11.dtd\">\n<!-- Created with matplotlib (https://matplotlib.org/) -->\n<svg height=\"251.175327pt\" version=\"1.1\" viewBox=\"0 0 334.407353 251.175327\" width=\"334.407353pt\" xmlns=\"http://www.w3.org/2000/svg\" xmlns:xlink=\"http://www.w3.org/1999/xlink\">\n <metadata>\n  <rdf:RDF xmlns:cc=\"http://creativecommons.org/ns#\" xmlns:dc=\"http://purl.org/dc/elements/1.1/\" xmlns:rdf=\"http://www.w3.org/1999/02/22-rdf-syntax-ns#\">\n   <cc:Work>\n    <dc:type rdf:resource=\"http://purl.org/dc/dcmitype/StillImage\"/>\n    <dc:date>2021-08-19T20:19:53.726156</dc:date>\n    <dc:format>image/svg+xml</dc:format>\n    <dc:creator>\n     <cc:Agent>\n      <dc:title>Matplotlib v3.3.4, https://matplotlib.org/</dc:title>\n     </cc:Agent>\n    </dc:creator>\n   </cc:Work>\n  </rdf:RDF>\n </metadata>\n <defs>\n  <style type=\"text/css\">*{stroke-linecap:butt;stroke-linejoin:round;}</style>\n </defs>\n <g id=\"figure_1\">\n  <g id=\"patch_1\">\n   <path d=\"M 0 251.175327 \nL 334.407353 251.175327 \nL 334.407353 0 \nL 0 0 \nz\n\" style=\"fill:none;\"/>\n  </g>\n  <g id=\"axes_1\">\n   <g id=\"patch_2\">\n    <path d=\"M 26.925 73.810143 \nL 90.877941 73.810143 \nL 90.877941 9.857202 \nL 26.925 9.857202 \nz\n\" style=\"fill:#ffffff;\"/>\n   </g>\n   <g clip-path=\"url(#pd5cd19e310)\">\n    <image height=\"64\" id=\"image0b05d8ef53\" transform=\"scale(1 -1)translate(0 -64)\" width=\"64\" x=\"26.925\" xlink:href=\"data:image/png;base64,\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\" y=\"-9.810143\"/>\n   </g>\n   <g id=\"matplotlib.axis_1\">\n    <g id=\"xtick_1\">\n     <g id=\"line2d_1\">\n      <defs>\n       <path d=\"M 0 0 \nL 0 3.5 \n\" id=\"m045c707cb3\" style=\"stroke:#000000;stroke-width:0.8;\"/>\n      </defs>\n      <g>\n       <use style=\"stroke:#000000;stroke-width:0.8;\" x=\"28.067017\" xlink:href=\"#m045c707cb3\" y=\"73.810143\"/>\n      </g>\n     </g>\n     <g id=\"text_1\">\n      <!-- 0 -->\n      <g transform=\"translate(24.885767 88.408581)scale(0.1 -0.1)\">\n       <defs>\n        <path d=\"M 31.78125 66.40625 \nQ 24.171875 66.40625 20.328125 58.90625 \nQ 16.5 51.421875 16.5 36.375 \nQ 16.5 21.390625 20.328125 13.890625 \nQ 24.171875 6.390625 31.78125 6.390625 \nQ 39.453125 6.390625 43.28125 13.890625 \nQ 47.125 21.390625 47.125 36.375 \nQ 47.125 51.421875 43.28125 58.90625 \nQ 39.453125 66.40625 31.78125 66.40625 \nz\nM 31.78125 74.21875 \nQ 44.046875 74.21875 50.515625 64.515625 \nQ 56.984375 54.828125 56.984375 36.375 \nQ 56.984375 17.96875 50.515625 8.265625 \nQ 44.046875 -1.421875 31.78125 -1.421875 \nQ 19.53125 -1.421875 13.0625 8.265625 \nQ 6.59375 17.96875 6.59375 36.375 \nQ 6.59375 54.828125 13.0625 64.515625 \nQ 19.53125 74.21875 31.78125 74.21875 \nz\n\" id=\"DejaVuSans-48\"/>\n       </defs>\n       <use xlink:href=\"#DejaVuSans-48\"/>\n      </g>\n     </g>\n    </g>\n    <g id=\"xtick_2\">\n     <g id=\"line2d_2\">\n      <g>\n       <use style=\"stroke:#000000;stroke-width:0.8;\" x=\"73.747689\" xlink:href=\"#m045c707cb3\" y=\"73.810143\"/>\n      </g>\n     </g>\n     <g id=\"text_2\">\n      <!-- 20 -->\n      <g transform=\"translate(67.385189 88.408581)scale(0.1 -0.1)\">\n       <defs>\n        <path d=\"M 19.1875 8.296875 \nL 53.609375 8.296875 \nL 53.609375 0 \nL 7.328125 0 \nL 7.328125 8.296875 \nQ 12.9375 14.109375 22.625 23.890625 \nQ 32.328125 33.6875 34.8125 36.53125 \nQ 39.546875 41.84375 41.421875 45.53125 \nQ 43.3125 49.21875 43.3125 52.78125 \nQ 43.3125 58.59375 39.234375 62.25 \nQ 35.15625 65.921875 28.609375 65.921875 \nQ 23.96875 65.921875 18.8125 64.3125 \nQ 13.671875 62.703125 7.8125 59.421875 \nL 7.8125 69.390625 \nQ 13.765625 71.78125 18.9375 73 \nQ 24.125 74.21875 28.421875 74.21875 \nQ 39.75 74.21875 46.484375 68.546875 \nQ 53.21875 62.890625 53.21875 53.421875 \nQ 53.21875 48.921875 51.53125 44.890625 \nQ 49.859375 40.875 45.40625 35.40625 \nQ 44.1875 33.984375 37.640625 27.21875 \nQ 31.109375 20.453125 19.1875 8.296875 \nz\n\" id=\"DejaVuSans-50\"/>\n       </defs>\n       <use xlink:href=\"#DejaVuSans-50\"/>\n       <use x=\"63.623047\" xlink:href=\"#DejaVuSans-48\"/>\n      </g>\n     </g>\n    </g>\n   </g>\n   <g id=\"matplotlib.axis_2\">\n    <g id=\"ytick_1\">\n     <g id=\"line2d_3\">\n      <defs>\n       <path d=\"M 0 0 \nL -3.5 0 \n\" id=\"ma88d80b6a7\" style=\"stroke:#000000;stroke-width:0.8;\"/>\n      </defs>\n      <g>\n       <use style=\"stroke:#000000;stroke-width:0.8;\" x=\"26.925\" xlink:href=\"#ma88d80b6a7\" y=\"10.999219\"/>\n      </g>\n     </g>\n     <g id=\"text_3\">\n      <!-- 0 -->\n      <g transform=\"translate(13.5625 14.798437)scale(0.1 -0.1)\">\n       <use xlink:href=\"#DejaVuSans-48\"/>\n      </g>\n     </g>\n    </g>\n    <g id=\"ytick_2\">\n     <g id=\"line2d_4\">\n      <g>\n       <use style=\"stroke:#000000;stroke-width:0.8;\" x=\"26.925\" xlink:href=\"#ma88d80b6a7\" y=\"33.839555\"/>\n      </g>\n     </g>\n     <g id=\"text_4\">\n      <!-- 10 -->\n      <g transform=\"translate(7.2 37.638774)scale(0.1 -0.1)\">\n       <defs>\n        <path d=\"M 12.40625 8.296875 \nL 28.515625 8.296875 \nL 28.515625 63.921875 \nL 10.984375 60.40625 \nL 10.984375 69.390625 \nL 28.421875 72.90625 \nL 38.28125 72.90625 \nL 38.28125 8.296875 \nL 54.390625 8.296875 \nL 54.390625 0 \nL 12.40625 0 \nz\n\" id=\"DejaVuSans-49\"/>\n       </defs>\n       <use xlink:href=\"#DejaVuSans-49\"/>\n       <use x=\"63.623047\" xlink:href=\"#DejaVuSans-48\"/>\n      </g>\n     </g>\n    </g>\n    <g id=\"ytick_3\">\n     <g id=\"line2d_5\">\n      <g>\n       <use style=\"stroke:#000000;stroke-width:0.8;\" x=\"26.925\" xlink:href=\"#ma88d80b6a7\" y=\"56.679891\"/>\n      </g>\n     </g>\n     <g id=\"text_5\">\n      <!-- 20 -->\n      <g transform=\"translate(7.2 60.47911)scale(0.1 -0.1)\">\n       <use xlink:href=\"#DejaVuSans-50\"/>\n       <use x=\"63.623047\" xlink:href=\"#DejaVuSans-48\"/>\n      </g>\n     </g>\n    </g>\n   </g>\n   <g id=\"patch_3\">\n    <path d=\"M 26.925 73.810143 \nL 26.925 9.857202 \n\" style=\"fill:none;stroke:#000000;stroke-linecap:square;stroke-linejoin:miter;stroke-width:0.8;\"/>\n   </g>\n   <g id=\"patch_4\">\n    <path d=\"M 90.877941 73.810143 \nL 90.877941 9.857202 \n\" style=\"fill:none;stroke:#000000;stroke-linecap:square;stroke-linejoin:miter;stroke-width:0.8;\"/>\n   </g>\n   <g id=\"patch_5\">\n    <path d=\"M 26.925 73.810143 \nL 90.877941 73.810143 \n\" style=\"fill:none;stroke:#000000;stroke-linecap:square;stroke-linejoin:miter;stroke-width:0.8;\"/>\n   </g>\n   <g id=\"patch_6\">\n    <path d=\"M 26.925 9.857202 \nL 90.877941 9.857202 \n\" style=\"fill:none;stroke:#000000;stroke-linecap:square;stroke-linejoin:miter;stroke-width:0.8;\"/>\n   </g>\n  </g>\n  <g id=\"axes_2\">\n   <g id=\"patch_7\">\n    <path d=\"M 145.089706 73.810143 \nL 209.042647 73.810143 \nL 209.042647 9.857202 \nL 145.089706 9.857202 \nz\n\" style=\"fill:#ffffff;\"/>\n   </g>\n   <g clip-path=\"url(#p2455d8e8e5)\">\n    <image height=\"64\" id=\"image093c112842\" transform=\"scale(1 -1)translate(0 -64)\" width=\"64\" x=\"145.089706\" xlink:href=\"data:image/png;base64,\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\" y=\"-9.810143\"/>\n   </g>\n   <g id=\"matplotlib.axis_3\">\n    <g id=\"xtick_3\">\n     <g id=\"line2d_6\">\n      <g>\n       <use style=\"stroke:#000000;stroke-width:0.8;\" x=\"146.231723\" xlink:href=\"#m045c707cb3\" y=\"73.810143\"/>\n      </g>\n     </g>\n     <g id=\"text_6\">\n      <!-- 0 -->\n      <g transform=\"translate(143.050473 88.408581)scale(0.1 -0.1)\">\n       <use xlink:href=\"#DejaVuSans-48\"/>\n      </g>\n     </g>\n    </g>\n    <g id=\"xtick_4\">\n     <g id=\"line2d_7\">\n      <g>\n       <use style=\"stroke:#000000;stroke-width:0.8;\" x=\"191.912395\" xlink:href=\"#m045c707cb3\" y=\"73.810143\"/>\n      </g>\n     </g>\n     <g id=\"text_7\">\n      <!-- 20 -->\n      <g transform=\"translate(185.549895 88.408581)scale(0.1 -0.1)\">\n       <use xlink:href=\"#DejaVuSans-50\"/>\n       <use x=\"63.623047\" xlink:href=\"#DejaVuSans-48\"/>\n      </g>\n     </g>\n    </g>\n   </g>\n   <g id=\"matplotlib.axis_4\">\n    <g id=\"ytick_4\">\n     <g id=\"line2d_8\">\n      <g>\n       <use style=\"stroke:#000000;stroke-width:0.8;\" x=\"145.089706\" xlink:href=\"#ma88d80b6a7\" y=\"10.999219\"/>\n      </g>\n     </g>\n     <g id=\"text_8\">\n      <!-- 0 -->\n      <g transform=\"translate(131.727206 14.798437)scale(0.1 -0.1)\">\n       <use xlink:href=\"#DejaVuSans-48\"/>\n      </g>\n     </g>\n    </g>\n    <g id=\"ytick_5\">\n     <g id=\"line2d_9\">\n      <g>\n       <use style=\"stroke:#000000;stroke-width:0.8;\" x=\"145.089706\" xlink:href=\"#ma88d80b6a7\" y=\"33.839555\"/>\n      </g>\n     </g>\n     <g id=\"text_9\">\n      <!-- 10 -->\n      <g transform=\"translate(125.364706 37.638774)scale(0.1 -0.1)\">\n       <use xlink:href=\"#DejaVuSans-49\"/>\n       <use x=\"63.623047\" xlink:href=\"#DejaVuSans-48\"/>\n      </g>\n     </g>\n    </g>\n    <g id=\"ytick_6\">\n     <g id=\"line2d_10\">\n      <g>\n       <use style=\"stroke:#000000;stroke-width:0.8;\" x=\"145.089706\" xlink:href=\"#ma88d80b6a7\" y=\"56.679891\"/>\n      </g>\n     </g>\n     <g id=\"text_10\">\n      <!-- 20 -->\n      <g transform=\"translate(125.364706 60.47911)scale(0.1 -0.1)\">\n       <use xlink:href=\"#DejaVuSans-50\"/>\n       <use x=\"63.623047\" xlink:href=\"#DejaVuSans-48\"/>\n      </g>\n     </g>\n    </g>\n   </g>\n   <g id=\"patch_8\">\n    <path d=\"M 145.089706 73.810143 \nL 145.089706 9.857202 \n\" style=\"fill:none;stroke:#000000;stroke-linecap:square;stroke-linejoin:miter;stroke-width:0.8;\"/>\n   </g>\n   <g id=\"patch_9\">\n    <path d=\"M 209.042647 73.810143 \nL 209.042647 9.857202 \n\" style=\"fill:none;stroke:#000000;stroke-linecap:square;stroke-linejoin:miter;stroke-width:0.8;\"/>\n   </g>\n   <g id=\"patch_10\">\n    <path d=\"M 145.089706 73.810143 \nL 209.042647 73.810143 \n\" style=\"fill:none;stroke:#000000;stroke-linecap:square;stroke-linejoin:miter;stroke-width:0.8;\"/>\n   </g>\n   <g id=\"patch_11\">\n    <path d=\"M 145.089706 9.857202 \nL 209.042647 9.857202 \n\" style=\"fill:none;stroke:#000000;stroke-linecap:square;stroke-linejoin:miter;stroke-width:0.8;\"/>\n   </g>\n  </g>\n  <g id=\"axes_3\">\n   <g id=\"patch_12\">\n    <path d=\"M 263.254412 73.810143 \nL 327.207353 73.810143 \nL 327.207353 9.857202 \nL 263.254412 9.857202 \nz\n\" style=\"fill:#ffffff;\"/>\n   </g>\n   <g clip-path=\"url(#p580b997b2d)\">\n    <image height=\"64\" id=\"image89c0e250c4\" transform=\"scale(1 -1)translate(0 -64)\" width=\"64\" x=\"263.254412\" xlink:href=\"data:image/png;base64,\niVBORw0KGgoAAAANSUhEUgAAAEAAAABACAYAAACqaXHeAAADJElEQVR4nO2bTUvrQBSG3zMT2ySGhsZqlEpRUHAhFnGjCIJ/wI3/05/gVt10qUW60Y1QtUVIbVqTmbvwKvTq/VidU27zbLOYtw9nvqdkrbWYYZR0AGkKAdIBpCkESAeQphAgHUAah7OxPM+R5znSNEWSJPhYghARgiCA67rQWkNrzZaJTYC1Ft1uF4+Pj2i1Wjg7O0OapgAAz/NwenqK3d1dLC4uYnl5mSsWbwUMBgM8Pz/j9vYW5+fnGAwGAIAgCLCzs4NGowHf92GtBRGxZGITYIxBp9PBxcUF2u028jz//JZlGa6vr6G1xuHhIdbX1/8/AdZa3N/f4/LyEg8PD8iy7PNbnufodDp4fX3F6uoqOLcnrLPA336YxL5s5qfBQoBEo7+WuuSRBKsAIoJSim2E/xfYBBARfN9HtVrF/Pz8hARJIawVUCqV4HkeXNedmipgWwcQETY2NpBlGcrlMq6urria/iNsFaCUwvb2Nk5OTrC3t4e5uTmupv8I+yCotYZS0zP7Tk8SIQoB0gGkKQRIB5CmECAdQJqZF8B6KEpEICKUy2VEUQSlFJIk4YzwBdYKUErBcRzU63UcHx9jf38fQRBwRvgCawUA71XgeR7iOMZ4PIbjsEeYgLV1pRSstahUKlhbW4MxRnxTxD4IEhFc18XCwgKq1aq4ANYKsNbCWot+v492u427u7vP6zEpWAUYY2CMwdPTE1qtFrrdLobDIWeEL7B3AWst0jRFr9dDr9ebuCGSgL0LGGPQ7/dxc3ODl5cX8ZlAZAz4eCMwGo04m/+WmV8KFwKkA0hTCJAOALwvkaMoQr1eRxiGvG2ztvYbiAiNRgPNZhMrKyus12ZTIUBrjTAMsbS0hCAIWAXI7kV/4jgOtra2cHR0NJsCPh5KRlHEviqcii4giZiA78pc4s0A+4mQ1hq1Wg3NZhNJkkAphSAIUKvVRJ7PsAsAgDiOcXBwgNFo9HlCFMcxlFLsV+cih6JhGGJzcxNvb28gIpRKJVQqFZEuQBJ/mxuPxxgOhxPP5X3fFzkfFBEwTRTToHQAaQoB0gGkKQRIB5Bm5gX8ANlg+mgXD2GWAAAAAElFTkSuQmCC\" y=\"-9.810143\"/>\n   </g>\n   <g id=\"matplotlib.axis_5\">\n    <g id=\"xtick_5\">\n     <g id=\"line2d_11\">\n      <g>\n       <use style=\"stroke:#000000;stroke-width:0.8;\" x=\"264.396429\" xlink:href=\"#m045c707cb3\" y=\"73.810143\"/>\n      </g>\n     </g>\n     <g id=\"text_11\">\n      <!-- 0 -->\n      <g transform=\"translate(261.215179 88.408581)scale(0.1 -0.1)\">\n       <use xlink:href=\"#DejaVuSans-48\"/>\n      </g>\n     </g>\n    </g>\n    <g id=\"xtick_6\">\n     <g id=\"line2d_12\">\n      <g>\n       <use style=\"stroke:#000000;stroke-width:0.8;\" x=\"310.077101\" xlink:href=\"#m045c707cb3\" y=\"73.810143\"/>\n      </g>\n     </g>\n     <g id=\"text_12\">\n      <!-- 20 -->\n      <g transform=\"translate(303.714601 88.408581)scale(0.1 -0.1)\">\n       <use xlink:href=\"#DejaVuSans-50\"/>\n       <use x=\"63.623047\" xlink:href=\"#DejaVuSans-48\"/>\n      </g>\n     </g>\n    </g>\n   </g>\n   <g id=\"matplotlib.axis_6\">\n    <g id=\"ytick_7\">\n     <g id=\"line2d_13\">\n      <g>\n       <use style=\"stroke:#000000;stroke-width:0.8;\" x=\"263.254412\" xlink:href=\"#ma88d80b6a7\" y=\"10.999219\"/>\n      </g>\n     </g>\n     <g id=\"text_13\">\n      <!-- 0 -->\n      <g transform=\"translate(249.891912 14.798437)scale(0.1 -0.1)\">\n       <use xlink:href=\"#DejaVuSans-48\"/>\n      </g>\n     </g>\n    </g>\n    <g id=\"ytick_8\">\n     <g id=\"line2d_14\">\n      <g>\n       <use style=\"stroke:#000000;stroke-width:0.8;\" x=\"263.254412\" xlink:href=\"#ma88d80b6a7\" y=\"33.839555\"/>\n      </g>\n     </g>\n     <g id=\"text_14\">\n      <!-- 10 -->\n      <g transform=\"translate(243.529412 37.638774)scale(0.1 -0.1)\">\n       <use xlink:href=\"#DejaVuSans-49\"/>\n       <use x=\"63.623047\" xlink:href=\"#DejaVuSans-48\"/>\n      </g>\n     </g>\n    </g>\n    <g id=\"ytick_9\">\n     <g id=\"line2d_15\">\n      <g>\n       <use style=\"stroke:#000000;stroke-width:0.8;\" x=\"263.254412\" xlink:href=\"#ma88d80b6a7\" y=\"56.679891\"/>\n      </g>\n     </g>\n     <g id=\"text_15\">\n      <!-- 20 -->\n      <g transform=\"translate(243.529412 60.47911)scale(0.1 -0.1)\">\n       <use xlink:href=\"#DejaVuSans-50\"/>\n       <use x=\"63.623047\" xlink:href=\"#DejaVuSans-48\"/>\n      </g>\n     </g>\n    </g>\n   </g>\n   <g id=\"patch_13\">\n    <path d=\"M 263.254412 73.810143 \nL 263.254412 9.857202 \n\" style=\"fill:none;stroke:#000000;stroke-linecap:square;stroke-linejoin:miter;stroke-width:0.8;\"/>\n   </g>\n   <g id=\"patch_14\">\n    <path d=\"M 327.207353 73.810143 \nL 327.207353 9.857202 \n\" style=\"fill:none;stroke:#000000;stroke-linecap:square;stroke-linejoin:miter;stroke-width:0.8;\"/>\n   </g>\n   <g id=\"patch_15\">\n    <path d=\"M 263.254412 73.810143 \nL 327.207353 73.810143 \n\" style=\"fill:none;stroke:#000000;stroke-linecap:square;stroke-linejoin:miter;stroke-width:0.8;\"/>\n   </g>\n   <g id=\"patch_16\">\n    <path d=\"M 263.254412 9.857202 \nL 327.207353 9.857202 \n\" style=\"fill:none;stroke:#000000;stroke-linecap:square;stroke-linejoin:miter;stroke-width:0.8;\"/>\n   </g>\n  </g>\n  <g id=\"axes_4\">\n   <g id=\"patch_17\">\n    <path d=\"M 26.925 150.553673 \nL 90.877941 150.553673 \nL 90.877941 86.600731 \nL 26.925 86.600731 \nz\n\" style=\"fill:#ffffff;\"/>\n   </g>\n   <g clip-path=\"url(#p4bd19dde4e)\">\n    <image height=\"64\" id=\"image924c399697\" transform=\"scale(1 -1)translate(0 -64)\" width=\"64\" x=\"26.925\" xlink:href=\"data:image/png;base64,\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\" y=\"-86.553673\"/>\n   </g>\n   <g id=\"matplotlib.axis_7\">\n    <g id=\"xtick_7\">\n     <g id=\"line2d_16\">\n      <g>\n       <use style=\"stroke:#000000;stroke-width:0.8;\" x=\"28.067017\" xlink:href=\"#m045c707cb3\" y=\"150.553673\"/>\n      </g>\n     </g>\n     <g id=\"text_16\">\n      <!-- 0 -->\n      <g transform=\"translate(24.885767 165.15211)scale(0.1 -0.1)\">\n       <use xlink:href=\"#DejaVuSans-48\"/>\n      </g>\n     </g>\n    </g>\n    <g id=\"xtick_8\">\n     <g id=\"line2d_17\">\n      <g>\n       <use style=\"stroke:#000000;stroke-width:0.8;\" x=\"73.747689\" xlink:href=\"#m045c707cb3\" y=\"150.553673\"/>\n      </g>\n     </g>\n     <g id=\"text_17\">\n      <!-- 20 -->\n      <g transform=\"translate(67.385189 165.15211)scale(0.1 -0.1)\">\n       <use xlink:href=\"#DejaVuSans-50\"/>\n       <use x=\"63.623047\" xlink:href=\"#DejaVuSans-48\"/>\n      </g>\n     </g>\n    </g>\n   </g>\n   <g id=\"matplotlib.axis_8\">\n    <g id=\"ytick_10\">\n     <g id=\"line2d_18\">\n      <g>\n       <use style=\"stroke:#000000;stroke-width:0.8;\" x=\"26.925\" xlink:href=\"#ma88d80b6a7\" y=\"87.742748\"/>\n      </g>\n     </g>\n     <g id=\"text_18\">\n      <!-- 0 -->\n      <g transform=\"translate(13.5625 91.541967)scale(0.1 -0.1)\">\n       <use xlink:href=\"#DejaVuSans-48\"/>\n      </g>\n     </g>\n    </g>\n    <g id=\"ytick_11\">\n     <g id=\"line2d_19\">\n      <g>\n       <use style=\"stroke:#000000;stroke-width:0.8;\" x=\"26.925\" xlink:href=\"#ma88d80b6a7\" y=\"110.583084\"/>\n      </g>\n     </g>\n     <g id=\"text_19\">\n      <!-- 10 -->\n      <g transform=\"translate(7.2 114.382303)scale(0.1 -0.1)\">\n       <use xlink:href=\"#DejaVuSans-49\"/>\n       <use x=\"63.623047\" xlink:href=\"#DejaVuSans-48\"/>\n      </g>\n     </g>\n    </g>\n    <g id=\"ytick_12\">\n     <g id=\"line2d_20\">\n      <g>\n       <use style=\"stroke:#000000;stroke-width:0.8;\" x=\"26.925\" xlink:href=\"#ma88d80b6a7\" y=\"133.42342\"/>\n      </g>\n     </g>\n     <g id=\"text_20\">\n      <!-- 20 -->\n      <g transform=\"translate(7.2 137.222639)scale(0.1 -0.1)\">\n       <use xlink:href=\"#DejaVuSans-50\"/>\n       <use x=\"63.623047\" xlink:href=\"#DejaVuSans-48\"/>\n      </g>\n     </g>\n    </g>\n   </g>\n   <g id=\"patch_18\">\n    <path d=\"M 26.925 150.553673 \nL 26.925 86.600731 \n\" style=\"fill:none;stroke:#000000;stroke-linecap:square;stroke-linejoin:miter;stroke-width:0.8;\"/>\n   </g>\n   <g id=\"patch_19\">\n    <path d=\"M 90.877941 150.553673 \nL 90.877941 86.600731 \n\" style=\"fill:none;stroke:#000000;stroke-linecap:square;stroke-linejoin:miter;stroke-width:0.8;\"/>\n   </g>\n   <g id=\"patch_20\">\n    <path d=\"M 26.925 150.553673 \nL 90.877941 150.553673 \n\" style=\"fill:none;stroke:#000000;stroke-linecap:square;stroke-linejoin:miter;stroke-width:0.8;\"/>\n   </g>\n   <g id=\"patch_21\">\n    <path d=\"M 26.925 86.600731 \nL 90.877941 86.600731 \n\" style=\"fill:none;stroke:#000000;stroke-linecap:square;stroke-linejoin:miter;stroke-width:0.8;\"/>\n   </g>\n  </g>\n  <g id=\"axes_5\">\n   <g id=\"patch_22\">\n    <path d=\"M 145.089706 150.553673 \nL 209.042647 150.553673 \nL 209.042647 86.600731 \nL 145.089706 86.600731 \nz\n\" style=\"fill:#ffffff;\"/>\n   </g>\n   <g clip-path=\"url(#p7c5f3e9c7b)\">\n    <image height=\"64\" id=\"image6c929a9cf7\" transform=\"scale(1 -1)translate(0 -64)\" width=\"64\" x=\"145.089706\" xlink:href=\"data:image/png;base64,\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\" y=\"-86.553673\"/>\n   </g>\n   <g id=\"matplotlib.axis_9\">\n    <g id=\"xtick_9\">\n     <g id=\"line2d_21\">\n      <g>\n       <use style=\"stroke:#000000;stroke-width:0.8;\" x=\"146.231723\" xlink:href=\"#m045c707cb3\" y=\"150.553673\"/>\n      </g>\n     </g>\n     <g id=\"text_21\">\n      <!-- 0 -->\n      <g transform=\"translate(143.050473 165.15211)scale(0.1 -0.1)\">\n       <use xlink:href=\"#DejaVuSans-48\"/>\n      </g>\n     </g>\n    </g>\n    <g id=\"xtick_10\">\n     <g id=\"line2d_22\">\n      <g>\n       <use style=\"stroke:#000000;stroke-width:0.8;\" x=\"191.912395\" xlink:href=\"#m045c707cb3\" y=\"150.553673\"/>\n      </g>\n     </g>\n     <g id=\"text_22\">\n      <!-- 20 -->\n      <g transform=\"translate(185.549895 165.15211)scale(0.1 -0.1)\">\n       <use xlink:href=\"#DejaVuSans-50\"/>\n       <use x=\"63.623047\" xlink:href=\"#DejaVuSans-48\"/>\n      </g>\n     </g>\n    </g>\n   </g>\n   <g id=\"matplotlib.axis_10\">\n    <g id=\"ytick_13\">\n     <g id=\"line2d_23\">\n      <g>\n       <use style=\"stroke:#000000;stroke-width:0.8;\" x=\"145.089706\" xlink:href=\"#ma88d80b6a7\" y=\"87.742748\"/>\n      </g>\n     </g>\n     <g id=\"text_23\">\n      <!-- 0 -->\n      <g transform=\"translate(131.727206 91.541967)scale(0.1 -0.1)\">\n       <use xlink:href=\"#DejaVuSans-48\"/>\n      </g>\n     </g>\n    </g>\n    <g id=\"ytick_14\">\n     <g id=\"line2d_24\">\n      <g>\n       <use style=\"stroke:#000000;stroke-width:0.8;\" x=\"145.089706\" xlink:href=\"#ma88d80b6a7\" y=\"110.583084\"/>\n      </g>\n     </g>\n     <g id=\"text_24\">\n      <!-- 10 -->\n      <g transform=\"translate(125.364706 114.382303)scale(0.1 -0.1)\">\n       <use xlink:href=\"#DejaVuSans-49\"/>\n       <use x=\"63.623047\" xlink:href=\"#DejaVuSans-48\"/>\n      </g>\n     </g>\n    </g>\n    <g id=\"ytick_15\">\n     <g id=\"line2d_25\">\n      <g>\n       <use style=\"stroke:#000000;stroke-width:0.8;\" x=\"145.089706\" xlink:href=\"#ma88d80b6a7\" y=\"133.42342\"/>\n      </g>\n     </g>\n     <g id=\"text_25\">\n      <!-- 20 -->\n      <g transform=\"translate(125.364706 137.222639)scale(0.1 -0.1)\">\n       <use xlink:href=\"#DejaVuSans-50\"/>\n       <use x=\"63.623047\" xlink:href=\"#DejaVuSans-48\"/>\n      </g>\n     </g>\n    </g>\n   </g>\n   <g id=\"patch_23\">\n    <path d=\"M 145.089706 150.553673 \nL 145.089706 86.600731 \n\" style=\"fill:none;stroke:#000000;stroke-linecap:square;stroke-linejoin:miter;stroke-width:0.8;\"/>\n   </g>\n   <g id=\"patch_24\">\n    <path d=\"M 209.042647 150.553673 \nL 209.042647 86.600731 \n\" style=\"fill:none;stroke:#000000;stroke-linecap:square;stroke-linejoin:miter;stroke-width:0.8;\"/>\n   </g>\n   <g id=\"patch_25\">\n    <path d=\"M 145.089706 150.553673 \nL 209.042647 150.553673 \n\" style=\"fill:none;stroke:#000000;stroke-linecap:square;stroke-linejoin:miter;stroke-width:0.8;\"/>\n   </g>\n   <g id=\"patch_26\">\n    <path d=\"M 145.089706 86.600731 \nL 209.042647 86.600731 \n\" style=\"fill:none;stroke:#000000;stroke-linecap:square;stroke-linejoin:miter;stroke-width:0.8;\"/>\n   </g>\n  </g>\n  <g id=\"axes_6\">\n   <g id=\"patch_27\">\n    <path d=\"M 263.254412 150.553673 \nL 327.207353 150.553673 \nL 327.207353 86.600731 \nL 263.254412 86.600731 \nz\n\" style=\"fill:#ffffff;\"/>\n   </g>\n   <g clip-path=\"url(#p04d9cb2b56)\">\n    <image height=\"64\" id=\"image4388b1e957\" transform=\"scale(1 -1)translate(0 -64)\" width=\"64\" x=\"263.254412\" xlink:href=\"data:image/png;base64,\niVBORw0KGgoAAAANSUhEUgAAAEAAAABACAYAAACqaXHeAAAKu0lEQVR4nO2by28bZdvGf/aMxx6fPbZjO3EOLWpzKKS0AtGgrhBS2CAkJFb8a2wRS2DDkmUCBNoFadO0jZvUkVPj8/g0M57Dt6hmvhZ4aRtPSL/v7SVZysJ+5prruZ/79NwJOI7j8F+M4HkTOG+8EeC8CZw33ghw3gTOG28EOG8C5w3R7wUdx/E+lmVh2zaGYXh/W5ZFMBgkEAggCAKRSIRgMIgoigSD//5++C6AYRiMx2M0TaPZbDIcDrl79y6tVotut4uqqoTDYWKxGOl0mvfee49sNsvs7CypVMpvOi+E7wJMJhNGoxGDwYBWq0Wv12N/f5+TkxP++OMP2u02siyTSqWYmZmhXC7jOA6KopBMJgkEAn5T+kcE/EiFHcdhPB5jGAbb29v8+OOPDIdDut0uuq5Tq9UYDAYMh0PG4zGSJBEOh4lGo1y8eJF0Os3m5iZra2vk83mKxaIf7/ZS8M0CxuMxw+GQX375ha+++gpd19E0jRfp+/vvvxOPx0mn04jiUzqFQuFfswRfBLBtm06nQ7PZpNvtYpomjuMQjUaRJImlpSWSySSqqjIajRgOhzSbTWzbxjRNDMOgUqkQiUSwLItkMkk0GkVRFARB8IPif4QvAliWxfHxMQcHB9RqNTRNQxRF0uk0uVyOL774gosXL1KpVKhWqxweHnLr1i00TWM4HGIYBj/99BN37tyh0WggSRKFQoFr16793xDAtm1UVaXZbNLv97Ftm0gkQqlUIp/PUyqVKJVKTCYTRFFEFEXPEur1OoZh4DgOqqrSarU4OTlBEATG4zGCICCK4pkdiakFsCwLwzC4f/8+W1tbPH78GMdxKBaLfP7558zNzbGxsUGhUGB1dZXJZOJFiGazydbWFvV6ne3tbSqVCnt7e9i2zerqKktLS+RyORRFIRwO+/G+f8FUAjiO451jVVVpNBoMh0MEQSAajVIulymXy16Ic2EYBjMzMzQaDY6PjxEEgXA4jGEY9Ho9njx5gqIodLtdJEkikUggSdKZWMFUAliWRb/fp9PpUK1WqVQqBAIB8vk88/PzLC8vMzs7SywWe/6hokg0GiWTybCyskImk2F7e5tIJMJwOOTRo0fouk40GqVYLPLpp5+ytLSELMtIkjTVC/8ZUwlg27YX/trtNvV6HUVRmJmZQVEUSqUSMzMzhEKh534XDAaRJIlYLEaxWEQQBJLJJKFQCF3XUVUVwzCQJIm5uTlu3LhBsVgkFAq9XgL8HVynJYoigiD8oxcXRZFsNksoFOLDDz9ElmUePHjA7u4utm1Tr9cxTZM7d+5gWRbLy8ssLS35ytd3AdzC5lkR/hNCoRAzMzNkMhk2NzdZX1/n+++/5+HDh+i6TrVapdfr8dtvv9HtdkkkEq+XAIFAgGAw6H3ccPWqzioYDJJMJjFNk8XFRVZWVuh0Ojx69IjJZOKFxVarxXg8RhTFvxyr02JqC3BNXpIkQqHQqYgJgsDc3BzFYhHTNInFYty7d4+vv/4aVVXZ2dlhd3eXS5cu8c477xCPx8lms75EhaktwCXhWsNp4YqXTqeZnZ2l0Wh4Yo5GI0zTZDQaoes6kUgEx3HOXwA3D3AbHaZpYtv2VISy2SwrKyuoqkoqlULTNDRNwzRNr8IURfGFRdbLYuoWjCuCZVm+kIpEIiiKQiqVIhwOe37Ftm0mkwmapjGZTKZ+joupBHDbWm58liTJa3bEYrFTHQlRFIlEIkQiEcLhMOFw2FtnNBrRbrcZDoevjwW4sT4UCnnk4/E4siyf6oy6aXE4HEaWZcLhMIFAAMdx0DSNXq/HaDR6fQT4M3Rdp9frMRgMmEwmWJb1aoSCweciy7MWoOs6o9EIwzB84+tbIuTuSL/fx3Ecms2m1yZ79iVeBDdNdi0pGo0iCIKXdne73dfHAlwf4O6Wm6e7nnsymXjdodOs7bbPXbil9Mu02l4WUwkgCALxeJxUKkUul6NQKCAIAo1Gw2uPqaqKaZqnfoaba7hWValUqNfrU4dbF744wVAohCzLxGIxRFHEMAzvfkDX9Vf2A/C/FiAIgmcFmqahqiqapmHbti9W4IsPEASBhYUF1tfXAahWq/T7ffb29uj3+95ZfhVIkkQul2M8HnN4eIjjOLRaLWzb5vLly/R6PQBkWZ4qA/VFgGAwiKIozM/Pc3R0BDzdrVqthiAI6Lp+qjXj8TjxeNyrKPv9PpPJhE6nw3g89nKFaQTwLQy6+YBLxjAMut0u3W7Xa3q+CtLpNNevX+f69euk02ngaQdK0zQMw8A0zal8iwvfBHDLYXe3TNOk3W7Tbrc9AV5FhGw2y82bN7l586YngJsK67ruiTCtH/DtCGSzWcrlMrlcjng8TiAQoF6vI4oiqqp6V2IvWy67IfY0/YVX4u7HIqIocuXKFT766CPeffdd5ubmCAaD7OzssLW1xdHREa1WC03T/Hicr/BFgEAggCzLJJNJkskkqVSKSCTCeDym3+/T6/XodDqvLIBrBa5vOQtL8M0HuNngwsICGxsbrK2tEQ6H0TSN7e1tfvjhBw4ODl46fguCgCzLRKNREomEVx77Dd9qAXe3kskk5XKZwWCAIAhYlsXJyQmiKHLt2jVs236p3Xx2993q0M8+gAvfu8LuVZgsy2xtbdFutzk8PKRer3PlyhWWl5eJx+Pkcrl/FMGyLM/bu2lvPB4nFouRzWZJpVLE4/Gpx2p8F6BQKKAoinf9ZZomx8fH6LpOpVLh5OSEfD7/wqtvx3G8lNoVIBqNIssymUyGRCJBNBp9/QRwTTeVSrG2tkYymaTX62EYBtVqlZ2dHVZWVlhYWPjbo1Cr1Xj8+DGqqlKtVmk0GtRqNXRdp1QqUS6XKRQKp27B/xlncjESDAYpFot8/PHH3jxAp9Ph9u3b1Go1Njc3uXHjxt9enOzu7vLtt99Sr9e5e/cuw+GQVquFaZrMzs6ysbHB5cuXkSTJl9kB3wVw4RYzhmGQz+dpNpsAdDodb1fdAYpnkyO3o9Tr9eh2u4zHYyzLIhAIEI/HyefzJBIJ30bqzkyAZDLJ1atXKZfLVCoV5ufnuX37Nvfu3ePXX3/lm2++YWFhgc8++4x8Pu/9Ttd1ut0u/X6fwWCAYRgIgoAkSVy4cIH333+fTCbj2+TImQkgiiKJRALbtimVSgyHQx48eOBNkxwdHREIBOj1esRiMe8suzOGbh/BsixisZjXbVYU5bnvT83Tl1X+AbIss7GxwcrKivdCuq7z888/c//+fSaTCblcDkmSEEWR7e1tDg4OvKxRURQ++eQTlpaW+OCDD1AUxdeRmTMXQJIk3nrrLSaTCfv7+xweHnJ4eMju7i5PnjxBkiRSqRSyLBMKhdjf36derwNPHWosFuPq1ausr69z4cKFvwxbTIszFwCehkZRFFldXSUQCLC3t+fdKAUCAQaDAY1Gw2ujFYtFMpkMb7/9Nvl8nvX1dRYXF89klNaXSdGXhXsEbt26xXfffUer1eLhw4f0ej2q1Srtdpu5uTkWFhZYXV3lyy+/JJfLsbi46JXYfuNfsQAXbuKTyWS4dOkShUKBRCLBaDRicXERVVW9UdnFxUVyuRzpdJpQKHRmPYF/1QJcuKbuXni6l6u2bT83YhOLxbyC6P+VAK8T/uv/Y+SNAOdN4LzxRoDzJnDeeCPAeRM4b/wPeCknkgJ+ubkAAAAASUVORK5CYII=\" y=\"-86.553673\"/>\n   </g>\n   <g id=\"matplotlib.axis_11\">\n    <g id=\"xtick_11\">\n     <g id=\"line2d_26\">\n      <g>\n       <use style=\"stroke:#000000;stroke-width:0.8;\" x=\"264.396429\" xlink:href=\"#m045c707cb3\" y=\"150.553673\"/>\n      </g>\n     </g>\n     <g id=\"text_26\">\n      <!-- 0 -->\n      <g transform=\"translate(261.215179 165.15211)scale(0.1 -0.1)\">\n       <use xlink:href=\"#DejaVuSans-48\"/>\n      </g>\n     </g>\n    </g>\n    <g id=\"xtick_12\">\n     <g id=\"line2d_27\">\n      <g>\n       <use style=\"stroke:#000000;stroke-width:0.8;\" x=\"310.077101\" xlink:href=\"#m045c707cb3\" y=\"150.553673\"/>\n      </g>\n     </g>\n     <g id=\"text_27\">\n      <!-- 20 -->\n      <g transform=\"translate(303.714601 165.15211)scale(0.1 -0.1)\">\n       <use xlink:href=\"#DejaVuSans-50\"/>\n       <use x=\"63.623047\" xlink:href=\"#DejaVuSans-48\"/>\n      </g>\n     </g>\n    </g>\n   </g>\n   <g id=\"matplotlib.axis_12\">\n    <g id=\"ytick_16\">\n     <g id=\"line2d_28\">\n      <g>\n       <use style=\"stroke:#000000;stroke-width:0.8;\" x=\"263.254412\" xlink:href=\"#ma88d80b6a7\" y=\"87.742748\"/>\n      </g>\n     </g>\n     <g id=\"text_28\">\n      <!-- 0 -->\n      <g transform=\"translate(249.891912 91.541967)scale(0.1 -0.1)\">\n       <use xlink:href=\"#DejaVuSans-48\"/>\n      </g>\n     </g>\n    </g>\n    <g id=\"ytick_17\">\n     <g id=\"line2d_29\">\n      <g>\n       <use style=\"stroke:#000000;stroke-width:0.8;\" x=\"263.254412\" xlink:href=\"#ma88d80b6a7\" y=\"110.583084\"/>\n      </g>\n     </g>\n     <g id=\"text_29\">\n      <!-- 10 -->\n      <g transform=\"translate(243.529412 114.382303)scale(0.1 -0.1)\">\n       <use xlink:href=\"#DejaVuSans-49\"/>\n       <use x=\"63.623047\" xlink:href=\"#DejaVuSans-48\"/>\n      </g>\n     </g>\n    </g>\n    <g id=\"ytick_18\">\n     <g id=\"line2d_30\">\n      <g>\n       <use style=\"stroke:#000000;stroke-width:0.8;\" x=\"263.254412\" xlink:href=\"#ma88d80b6a7\" y=\"133.42342\"/>\n      </g>\n     </g>\n     <g id=\"text_30\">\n      <!-- 20 -->\n      <g transform=\"translate(243.529412 137.222639)scale(0.1 -0.1)\">\n       <use xlink:href=\"#DejaVuSans-50\"/>\n       <use x=\"63.623047\" xlink:href=\"#DejaVuSans-48\"/>\n      </g>\n     </g>\n    </g>\n   </g>\n   <g id=\"patch_28\">\n    <path d=\"M 263.254412 150.553673 \nL 263.254412 86.600731 \n\" style=\"fill:none;stroke:#000000;stroke-linecap:square;stroke-linejoin:miter;stroke-width:0.8;\"/>\n   </g>\n   <g id=\"patch_29\">\n    <path d=\"M 327.207353 150.553673 \nL 327.207353 86.600731 \n\" style=\"fill:none;stroke:#000000;stroke-linecap:square;stroke-linejoin:miter;stroke-width:0.8;\"/>\n   </g>\n   <g id=\"patch_30\">\n    <path d=\"M 263.254412 150.553673 \nL 327.207353 150.553673 \n\" style=\"fill:none;stroke:#000000;stroke-linecap:square;stroke-linejoin:miter;stroke-width:0.8;\"/>\n   </g>\n   <g id=\"patch_31\">\n    <path d=\"M 263.254412 86.600731 \nL 327.207353 86.600731 \n\" style=\"fill:none;stroke:#000000;stroke-linecap:square;stroke-linejoin:miter;stroke-width:0.8;\"/>\n   </g>\n  </g>\n  <g id=\"axes_7\">\n   <g id=\"patch_32\">\n    <path d=\"M 26.925 227.297202 \nL 90.877941 227.297202 \nL 90.877941 163.344261 \nL 26.925 163.344261 \nz\n\" style=\"fill:#ffffff;\"/>\n   </g>\n   <g clip-path=\"url(#p9a28c1c892)\">\n    <image height=\"64\" id=\"image43095c44cd\" transform=\"scale(1 -1)translate(0 -64)\" width=\"64\" x=\"26.925\" xlink:href=\"data:image/png;base64,\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\" y=\"-163.297202\"/>\n   </g>\n   <g id=\"matplotlib.axis_13\">\n    <g id=\"xtick_13\">\n     <g id=\"line2d_31\">\n      <g>\n       <use style=\"stroke:#000000;stroke-width:0.8;\" x=\"28.067017\" xlink:href=\"#m045c707cb3\" y=\"227.297202\"/>\n      </g>\n     </g>\n     <g id=\"text_31\">\n      <!-- 0 -->\n      <g transform=\"translate(24.885767 241.895639)scale(0.1 -0.1)\">\n       <use xlink:href=\"#DejaVuSans-48\"/>\n      </g>\n     </g>\n    </g>\n    <g id=\"xtick_14\">\n     <g id=\"line2d_32\">\n      <g>\n       <use style=\"stroke:#000000;stroke-width:0.8;\" x=\"73.747689\" xlink:href=\"#m045c707cb3\" y=\"227.297202\"/>\n      </g>\n     </g>\n     <g id=\"text_32\">\n      <!-- 20 -->\n      <g transform=\"translate(67.385189 241.895639)scale(0.1 -0.1)\">\n       <use xlink:href=\"#DejaVuSans-50\"/>\n       <use x=\"63.623047\" xlink:href=\"#DejaVuSans-48\"/>\n      </g>\n     </g>\n    </g>\n   </g>\n   <g id=\"matplotlib.axis_14\">\n    <g id=\"ytick_19\">\n     <g id=\"line2d_33\">\n      <g>\n       <use style=\"stroke:#000000;stroke-width:0.8;\" x=\"26.925\" xlink:href=\"#ma88d80b6a7\" y=\"164.486278\"/>\n      </g>\n     </g>\n     <g id=\"text_33\">\n      <!-- 0 -->\n      <g transform=\"translate(13.5625 168.285496)scale(0.1 -0.1)\">\n       <use xlink:href=\"#DejaVuSans-48\"/>\n      </g>\n     </g>\n    </g>\n    <g id=\"ytick_20\">\n     <g id=\"line2d_34\">\n      <g>\n       <use style=\"stroke:#000000;stroke-width:0.8;\" x=\"26.925\" xlink:href=\"#ma88d80b6a7\" y=\"187.326614\"/>\n      </g>\n     </g>\n     <g id=\"text_34\">\n      <!-- 10 -->\n      <g transform=\"translate(7.2 191.125832)scale(0.1 -0.1)\">\n       <use xlink:href=\"#DejaVuSans-49\"/>\n       <use x=\"63.623047\" xlink:href=\"#DejaVuSans-48\"/>\n      </g>\n     </g>\n    </g>\n    <g id=\"ytick_21\">\n     <g id=\"line2d_35\">\n      <g>\n       <use style=\"stroke:#000000;stroke-width:0.8;\" x=\"26.925\" xlink:href=\"#ma88d80b6a7\" y=\"210.16695\"/>\n      </g>\n     </g>\n     <g id=\"text_35\">\n      <!-- 20 -->\n      <g transform=\"translate(7.2 213.966169)scale(0.1 -0.1)\">\n       <use xlink:href=\"#DejaVuSans-50\"/>\n       <use x=\"63.623047\" xlink:href=\"#DejaVuSans-48\"/>\n      </g>\n     </g>\n    </g>\n   </g>\n   <g id=\"patch_33\">\n    <path d=\"M 26.925 227.297202 \nL 26.925 163.344261 \n\" style=\"fill:none;stroke:#000000;stroke-linecap:square;stroke-linejoin:miter;stroke-width:0.8;\"/>\n   </g>\n   <g id=\"patch_34\">\n    <path d=\"M 90.877941 227.297202 \nL 90.877941 163.344261 \n\" style=\"fill:none;stroke:#000000;stroke-linecap:square;stroke-linejoin:miter;stroke-width:0.8;\"/>\n   </g>\n   <g id=\"patch_35\">\n    <path d=\"M 26.925 227.297202 \nL 90.877941 227.297202 \n\" style=\"fill:none;stroke:#000000;stroke-linecap:square;stroke-linejoin:miter;stroke-width:0.8;\"/>\n   </g>\n   <g id=\"patch_36\">\n    <path d=\"M 26.925 163.344261 \nL 90.877941 163.344261 \n\" style=\"fill:none;stroke:#000000;stroke-linecap:square;stroke-linejoin:miter;stroke-width:0.8;\"/>\n   </g>\n  </g>\n  <g id=\"axes_8\">\n   <g id=\"patch_37\">\n    <path d=\"M 145.089706 227.297202 \nL 209.042647 227.297202 \nL 209.042647 163.344261 \nL 145.089706 163.344261 \nz\n\" style=\"fill:#ffffff;\"/>\n   </g>\n   <g clip-path=\"url(#p35b8e4b4eb)\">\n    <image height=\"64\" id=\"imagebde95f3867\" transform=\"scale(1 -1)translate(0 -64)\" width=\"64\" x=\"145.089706\" xlink:href=\"data:image/png;base64,\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\" y=\"-163.297202\"/>\n   </g>\n   <g id=\"matplotlib.axis_15\">\n    <g id=\"xtick_15\">\n     <g id=\"line2d_36\">\n      <g>\n       <use style=\"stroke:#000000;stroke-width:0.8;\" x=\"146.231723\" xlink:href=\"#m045c707cb3\" y=\"227.297202\"/>\n      </g>\n     </g>\n     <g id=\"text_36\">\n      <!-- 0 -->\n      <g transform=\"translate(143.050473 241.895639)scale(0.1 -0.1)\">\n       <use xlink:href=\"#DejaVuSans-48\"/>\n      </g>\n     </g>\n    </g>\n    <g id=\"xtick_16\">\n     <g id=\"line2d_37\">\n      <g>\n       <use style=\"stroke:#000000;stroke-width:0.8;\" x=\"191.912395\" xlink:href=\"#m045c707cb3\" y=\"227.297202\"/>\n      </g>\n     </g>\n     <g id=\"text_37\">\n      <!-- 20 -->\n      <g transform=\"translate(185.549895 241.895639)scale(0.1 -0.1)\">\n       <use xlink:href=\"#DejaVuSans-50\"/>\n       <use x=\"63.623047\" xlink:href=\"#DejaVuSans-48\"/>\n      </g>\n     </g>\n    </g>\n   </g>\n   <g id=\"matplotlib.axis_16\">\n    <g id=\"ytick_22\">\n     <g id=\"line2d_38\">\n      <g>\n       <use style=\"stroke:#000000;stroke-width:0.8;\" x=\"145.089706\" xlink:href=\"#ma88d80b6a7\" y=\"164.486278\"/>\n      </g>\n     </g>\n     <g id=\"text_38\">\n      <!-- 0 -->\n      <g transform=\"translate(131.727206 168.285496)scale(0.1 -0.1)\">\n       <use xlink:href=\"#DejaVuSans-48\"/>\n      </g>\n     </g>\n    </g>\n    <g id=\"ytick_23\">\n     <g id=\"line2d_39\">\n      <g>\n       <use style=\"stroke:#000000;stroke-width:0.8;\" x=\"145.089706\" xlink:href=\"#ma88d80b6a7\" y=\"187.326614\"/>\n      </g>\n     </g>\n     <g id=\"text_39\">\n      <!-- 10 -->\n      <g transform=\"translate(125.364706 191.125832)scale(0.1 -0.1)\">\n       <use xlink:href=\"#DejaVuSans-49\"/>\n       <use x=\"63.623047\" xlink:href=\"#DejaVuSans-48\"/>\n      </g>\n     </g>\n    </g>\n    <g id=\"ytick_24\">\n     <g id=\"line2d_40\">\n      <g>\n       <use style=\"stroke:#000000;stroke-width:0.8;\" x=\"145.089706\" xlink:href=\"#ma88d80b6a7\" y=\"210.16695\"/>\n      </g>\n     </g>\n     <g id=\"text_40\">\n      <!-- 20 -->\n      <g transform=\"translate(125.364706 213.966169)scale(0.1 -0.1)\">\n       <use xlink:href=\"#DejaVuSans-50\"/>\n       <use x=\"63.623047\" xlink:href=\"#DejaVuSans-48\"/>\n      </g>\n     </g>\n    </g>\n   </g>\n   <g id=\"patch_38\">\n    <path d=\"M 145.089706 227.297202 \nL 145.089706 163.344261 \n\" style=\"fill:none;stroke:#000000;stroke-linecap:square;stroke-linejoin:miter;stroke-width:0.8;\"/>\n   </g>\n   <g id=\"patch_39\">\n    <path d=\"M 209.042647 227.297202 \nL 209.042647 163.344261 \n\" style=\"fill:none;stroke:#000000;stroke-linecap:square;stroke-linejoin:miter;stroke-width:0.8;\"/>\n   </g>\n   <g id=\"patch_40\">\n    <path d=\"M 145.089706 227.297202 \nL 209.042647 227.297202 \n\" style=\"fill:none;stroke:#000000;stroke-linecap:square;stroke-linejoin:miter;stroke-width:0.8;\"/>\n   </g>\n   <g id=\"patch_41\">\n    <path d=\"M 145.089706 163.344261 \nL 209.042647 163.344261 \n\" style=\"fill:none;stroke:#000000;stroke-linecap:square;stroke-linejoin:miter;stroke-width:0.8;\"/>\n   </g>\n  </g>\n  <g id=\"axes_9\">\n   <g id=\"patch_42\">\n    <path d=\"M 263.254412 227.297202 \nL 327.207353 227.297202 \nL 327.207353 163.344261 \nL 263.254412 163.344261 \nz\n\" style=\"fill:#ffffff;\"/>\n   </g>\n   <g clip-path=\"url(#p48c7602d0e)\">\n    <image height=\"64\" id=\"image181f4aa604\" transform=\"scale(1 -1)translate(0 -64)\" width=\"64\" x=\"263.254412\" xlink:href=\"data:image/png;base64,\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\" y=\"-163.297202\"/>\n   </g>\n   <g id=\"matplotlib.axis_17\">\n    <g id=\"xtick_17\">\n     <g id=\"line2d_41\">\n      <g>\n       <use style=\"stroke:#000000;stroke-width:0.8;\" x=\"264.396429\" xlink:href=\"#m045c707cb3\" y=\"227.297202\"/>\n      </g>\n     </g>\n     <g id=\"text_41\">\n      <!-- 0 -->\n      <g transform=\"translate(261.215179 241.895639)scale(0.1 -0.1)\">\n       <use xlink:href=\"#DejaVuSans-48\"/>\n      </g>\n     </g>\n    </g>\n    <g id=\"xtick_18\">\n     <g id=\"line2d_42\">\n      <g>\n       <use style=\"stroke:#000000;stroke-width:0.8;\" x=\"310.077101\" xlink:href=\"#m045c707cb3\" y=\"227.297202\"/>\n      </g>\n     </g>\n     <g id=\"text_42\">\n      <!-- 20 -->\n      <g transform=\"translate(303.714601 241.895639)scale(0.1 -0.1)\">\n       <use xlink:href=\"#DejaVuSans-50\"/>\n       <use x=\"63.623047\" xlink:href=\"#DejaVuSans-48\"/>\n      </g>\n     </g>\n    </g>\n   </g>\n   <g id=\"matplotlib.axis_18\">\n    <g id=\"ytick_25\">\n     <g id=\"line2d_43\">\n      <g>\n       <use style=\"stroke:#000000;stroke-width:0.8;\" x=\"263.254412\" xlink:href=\"#ma88d80b6a7\" y=\"164.486278\"/>\n      </g>\n     </g>\n     <g id=\"text_43\">\n      <!-- 0 -->\n      <g transform=\"translate(249.891912 168.285496)scale(0.1 -0.1)\">\n       <use xlink:href=\"#DejaVuSans-48\"/>\n      </g>\n     </g>\n    </g>\n    <g id=\"ytick_26\">\n     <g id=\"line2d_44\">\n      <g>\n       <use style=\"stroke:#000000;stroke-width:0.8;\" x=\"263.254412\" xlink:href=\"#ma88d80b6a7\" y=\"187.326614\"/>\n      </g>\n     </g>\n     <g id=\"text_44\">\n      <!-- 10 -->\n      <g transform=\"translate(243.529412 191.125832)scale(0.1 -0.1)\">\n       <use xlink:href=\"#DejaVuSans-49\"/>\n       <use x=\"63.623047\" xlink:href=\"#DejaVuSans-48\"/>\n      </g>\n     </g>\n    </g>\n    <g id=\"ytick_27\">\n     <g id=\"line2d_45\">\n      <g>\n       <use style=\"stroke:#000000;stroke-width:0.8;\" x=\"263.254412\" xlink:href=\"#ma88d80b6a7\" y=\"210.16695\"/>\n      </g>\n     </g>\n     <g id=\"text_45\">\n      <!-- 20 -->\n      <g transform=\"translate(243.529412 213.966169)scale(0.1 -0.1)\">\n       <use xlink:href=\"#DejaVuSans-50\"/>\n       <use x=\"63.623047\" xlink:href=\"#DejaVuSans-48\"/>\n      </g>\n     </g>\n    </g>\n   </g>\n   <g id=\"patch_43\">\n    <path d=\"M 263.254412 227.297202 \nL 263.254412 163.344261 \n\" style=\"fill:none;stroke:#000000;stroke-linecap:square;stroke-linejoin:miter;stroke-width:0.8;\"/>\n   </g>\n   <g id=\"patch_44\">\n    <path d=\"M 327.207353 227.297202 \nL 327.207353 163.344261 \n\" style=\"fill:none;stroke:#000000;stroke-linecap:square;stroke-linejoin:miter;stroke-width:0.8;\"/>\n   </g>\n   <g id=\"patch_45\">\n    <path d=\"M 263.254412 227.297202 \nL 327.207353 227.297202 \n\" style=\"fill:none;stroke:#000000;stroke-linecap:square;stroke-linejoin:miter;stroke-width:0.8;\"/>\n   </g>\n   <g id=\"patch_46\">\n    <path d=\"M 263.254412 163.344261 \nL 327.207353 163.344261 \n\" style=\"fill:none;stroke:#000000;stroke-linecap:square;stroke-linejoin:miter;stroke-width:0.8;\"/>\n   </g>\n  </g>\n </g>\n <defs>\n  <clipPath id=\"pd5cd19e310\">\n   <rect height=\"63.952941\" width=\"63.952941\" x=\"26.925\" y=\"9.857202\"/>\n  </clipPath>\n  <clipPath id=\"p2455d8e8e5\">\n   <rect height=\"63.952941\" width=\"63.952941\" x=\"145.089706\" y=\"9.857202\"/>\n  </clipPath>\n  <clipPath id=\"p580b997b2d\">\n   <rect height=\"63.952941\" width=\"63.952941\" x=\"263.254412\" y=\"9.857202\"/>\n  </clipPath>\n  <clipPath id=\"p4bd19dde4e\">\n   <rect height=\"63.952941\" width=\"63.952941\" x=\"26.925\" y=\"86.600731\"/>\n  </clipPath>\n  <clipPath id=\"p7c5f3e9c7b\">\n   <rect height=\"63.952941\" width=\"63.952941\" x=\"145.089706\" y=\"86.600731\"/>\n  </clipPath>\n  <clipPath id=\"p04d9cb2b56\">\n   <rect height=\"63.952941\" width=\"63.952941\" x=\"263.254412\" y=\"86.600731\"/>\n  </clipPath>\n  <clipPath id=\"p9a28c1c892\">\n   <rect height=\"63.952941\" width=\"63.952941\" x=\"26.925\" y=\"163.344261\"/>\n  </clipPath>\n  <clipPath id=\"p35b8e4b4eb\">\n   <rect height=\"63.952941\" width=\"63.952941\" x=\"145.089706\" y=\"163.344261\"/>\n  </clipPath>\n  <clipPath id=\"p48c7602d0e\">\n   <rect height=\"63.952941\" width=\"63.952941\" x=\"263.254412\" y=\"163.344261\"/>\n  </clipPath>\n </defs>\n</svg>\n",
                        "image/png": "[encoded data removed]"
                    },
                    "metadata": {
                        "needs_background": "light"
                    }
                }
            ],
            "metadata": {}
        },
        {
            "cell_type": "markdown",
            "source": [
                "# Modelo Redes Neuronales Simple"
            ],
            "metadata": {}
        },
        {
            "cell_type": "markdown",
            "source": [
                "### Dividimos la data entre train y test"
            ],
            "metadata": {}
        },
        {
            "cell_type": "code",
            "execution_count": 41,
            "source": [
                "x_train, x_test, y_train, y_test = train_test_split(data.iloc[:,1:785], data.iloc[:,0], test_size = 0.1, random_state = 42)"
            ],
            "outputs": [],
            "metadata": {}
        },
        {
            "cell_type": "markdown",
            "source": [
                "### Le damos la forma adecuada para poder realizar el modelo"
            ],
            "metadata": {}
        },
        {
            "cell_type": "code",
            "execution_count": 42,
            "source": [
                "x_train = x_train.values.reshape(37800, 784)\n",
                "x_test = x_test.values.reshape(4200, 784)"
            ],
            "outputs": [],
            "metadata": {}
        },
        {
            "cell_type": "markdown",
            "source": [
                "### Computamos el numero de labels"
            ],
            "metadata": {}
        },
        {
            "cell_type": "code",
            "execution_count": 43,
            "source": [
                "num_labels = len(np.unique(y_train))"
            ],
            "outputs": [],
            "metadata": {}
        },
        {
            "cell_type": "markdown",
            "source": [
                "### Convertimos la data a un vector one-hot"
            ],
            "metadata": {}
        },
        {
            "cell_type": "code",
            "execution_count": 44,
            "source": [
                "y_train = to_categorical(y_train)\n",
                "y_test = to_categorical(y_test)"
            ],
            "outputs": [],
            "metadata": {}
        },
        {
            "cell_type": "markdown",
            "source": [
                "### Normalizamos la data por cada imagen"
            ],
            "metadata": {}
        },
        {
            "cell_type": "code",
            "execution_count": 45,
            "source": [
                "x_train = x_train.astype('float32')/255\n",
                "x_test = x_test.astype('float32')/255"
            ],
            "outputs": [],
            "metadata": {}
        },
        {
            "cell_type": "markdown",
            "source": [
                "### Definimos unos parametros de la red neuronal"
            ],
            "metadata": {}
        },
        {
            "cell_type": "code",
            "execution_count": 46,
            "source": [
                "input_size = x_train.shape[1]\n",
                "batch_size = 64\n",
                "dropout = 0.45"
            ],
            "outputs": [],
            "metadata": {}
        },
        {
            "cell_type": "markdown",
            "source": [
                "### Definimos el modelo de redes neuronal de tres capas"
            ],
            "metadata": {}
        },
        {
            "cell_type": "code",
            "execution_count": 47,
            "source": [
                "model = Sequential()\n",
                "model.add(Dense(256, input_dim=input_size))\n",
                "model.add(Activation('relu'))\n",
                "model.add(Dropout(dropout))\n",
                "model.add(Dense(64))\n",
                "model.add(Activation('relu'))\n",
                "model.add(Dropout(dropout))\n",
                "model.add(Dense(num_labels))\n",
                "model.add(Activation('softmax'))\n",
                "model.summary()\n",
                "\n",
                "model.compile(\n",
                "    loss='categorical_crossentropy',\n",
                "    optimizer='adam',\n",
                "    metrics=['accuracy']\n",
                ")"
            ],
            "outputs": [
                {
                    "output_type": "stream",
                    "name": "stdout",
                    "text": [
                        "Model: \"sequential_1\"\n",
                        "_________________________________________________________________\n",
                        "Layer (type)                 Output Shape              Param #   \n",
                        "=================================================================\n",
                        "dense_3 (Dense)              (None, 256)               200960    \n",
                        "_________________________________________________________________\n",
                        "activation_3 (Activation)    (None, 256)               0         \n",
                        "_________________________________________________________________\n",
                        "dropout_2 (Dropout)          (None, 256)               0         \n",
                        "_________________________________________________________________\n",
                        "dense_4 (Dense)              (None, 64)                16448     \n",
                        "_________________________________________________________________\n",
                        "activation_4 (Activation)    (None, 64)                0         \n",
                        "_________________________________________________________________\n",
                        "dropout_3 (Dropout)          (None, 64)                0         \n",
                        "_________________________________________________________________\n",
                        "dense_5 (Dense)              (None, 10)                650       \n",
                        "_________________________________________________________________\n",
                        "activation_5 (Activation)    (None, 10)                0         \n",
                        "=================================================================\n",
                        "Total params: 218,058\n",
                        "Trainable params: 218,058\n",
                        "Non-trainable params: 0\n",
                        "_________________________________________________________________\n"
                    ]
                }
            ],
            "metadata": {}
        },
        {
            "cell_type": "markdown",
            "source": [
                "### Entrenamos la red neuronal y lo validamos"
            ],
            "metadata": {}
        },
        {
            "cell_type": "code",
            "execution_count": 48,
            "source": [
                "model.fit(x_train, y_train, epochs=20, batch_size=batch_size)\n",
                "\n",
                "loss, acc = model.evaluate(x_test, y_test, batch_size=batch_size)\n",
                "print(\"\\nTest accuracy: \", (100.0 * acc))"
            ],
            "outputs": [
                {
                    "output_type": "stream",
                    "name": "stdout",
                    "text": [
                        "Epoch 1/20\n",
                        "591/591 [==============================] - 2s 2ms/step - loss: 0.5880 - accuracy: 0.8192\n",
                        "Epoch 2/20\n",
                        "591/591 [==============================] - 1s 1ms/step - loss: 0.2717 - accuracy: 0.9221\n",
                        "Epoch 3/20\n",
                        "591/591 [==============================] - 2s 3ms/step - loss: 0.2142 - accuracy: 0.9381\n",
                        "Epoch 4/20\n",
                        "591/591 [==============================] - 2s 3ms/step - loss: 0.1808 - accuracy: 0.9488\n",
                        "Epoch 5/20\n",
                        "591/591 [==============================] - 2s 3ms/step - loss: 0.1645 - accuracy: 0.9540\n",
                        "Epoch 6/20\n",
                        "591/591 [==============================] - 1s 3ms/step - loss: 0.1460 - accuracy: 0.9583\n",
                        "Epoch 7/20\n",
                        "591/591 [==============================] - 2s 3ms/step - loss: 0.1330 - accuracy: 0.9616\n",
                        "Epoch 8/20\n",
                        "591/591 [==============================] - 2s 3ms/step - loss: 0.1212 - accuracy: 0.9634\n",
                        "Epoch 9/20\n",
                        "591/591 [==============================] - 1s 2ms/step - loss: 0.1160 - accuracy: 0.9664\n",
                        "Epoch 10/20\n",
                        "591/591 [==============================] - 2s 3ms/step - loss: 0.1112 - accuracy: 0.9673\n",
                        "Epoch 11/20\n",
                        "591/591 [==============================] - 2s 3ms/step - loss: 0.1027 - accuracy: 0.9701\n",
                        "Epoch 12/20\n",
                        "591/591 [==============================] - 2s 3ms/step - loss: 0.0971 - accuracy: 0.9713\n",
                        "Epoch 13/20\n",
                        "591/591 [==============================] - 2s 3ms/step - loss: 0.0900 - accuracy: 0.9726\n",
                        "Epoch 14/20\n",
                        "591/591 [==============================] - 2s 3ms/step - loss: 0.0901 - accuracy: 0.9741\n",
                        "Epoch 15/20\n",
                        "591/591 [==============================] - 2s 3ms/step - loss: 0.0902 - accuracy: 0.9734\n",
                        "Epoch 16/20\n",
                        "591/591 [==============================] - 2s 3ms/step - loss: 0.0793 - accuracy: 0.9762\n",
                        "Epoch 17/20\n",
                        "591/591 [==============================] - 2s 3ms/step - loss: 0.0825 - accuracy: 0.9749\n",
                        "Epoch 18/20\n",
                        "591/591 [==============================] - 2s 3ms/step - loss: 0.0778 - accuracy: 0.9767\n",
                        "Epoch 19/20\n",
                        "591/591 [==============================] - 2s 3ms/step - loss: 0.0751 - accuracy: 0.9781\n",
                        "Epoch 20/20\n",
                        "591/591 [==============================] - 2s 3ms/step - loss: 0.0777 - accuracy: 0.9776\n",
                        "66/66 [==============================] - 0s 1ms/step - loss: 0.0937 - accuracy: 0.9731\n",
                        "\n",
                        "Test accuracy:  97.30952382087708\n"
                    ]
                }
            ],
            "metadata": {}
        },
        {
            "cell_type": "markdown",
            "source": [
                "### Observamos que el modelo de una red neuronal simple tiene una accuracy de aprox 97.6%"
            ],
            "metadata": {}
        },
        {
            "cell_type": "code",
            "execution_count": null,
            "source": [],
            "outputs": [],
            "metadata": {}
        },
        {
            "cell_type": "code",
            "execution_count": null,
            "source": [],
            "outputs": [],
            "metadata": {}
        },
        {
            "cell_type": "code",
            "execution_count": null,
            "source": [],
            "outputs": [],
            "metadata": {}
        },
        {
            "cell_type": "code",
            "execution_count": null,
            "source": [],
            "outputs": [],
            "metadata": {}
        },
        {
            "cell_type": "code",
            "execution_count": null,
            "source": [],
            "outputs": [],
            "metadata": {}
        }
    ],
    "metadata": {
        "orig_nbformat": 4,
        "language_info": {
            "name": "python",
            "version": "3.9.4",
            "mimetype": "text/x-python",
            "codemirror_mode": {
                "name": "ipython",
                "version": 3
            },
            "pygments_lexer": "ipython3",
            "nbconvert_exporter": "python",
            "file_extension": ".py"
        },
        "kernelspec": {
            "name": "python3",
            "display_name": "Python 3.9.4 64-bit ('tensorflow': conda)"
        },
        "interpreter": {
            "hash": "cd937977531ec513a62a872c32be2d756f40ca97c1c4cc2c16f9ee969e1c2a89"
        }
    },
    "nbformat": 4,
    "nbformat_minor": 2
}